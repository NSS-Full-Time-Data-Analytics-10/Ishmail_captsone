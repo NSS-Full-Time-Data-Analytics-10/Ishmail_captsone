{
 "cells": [
  {
   "cell_type": "markdown",
   "id": "a77b14c3",
   "metadata": {},
   "source": [
    "### Packages required"
   ]
  },
  {
   "cell_type": "code",
   "execution_count": 1,
   "id": "f656221b",
   "metadata": {},
   "outputs": [
    {
     "name": "stderr",
     "output_type": "stream",
     "text": [
      "/Users/hq/opt/anaconda3/lib/python3.8/site-packages/scipy/__init__.py:138: UserWarning: A NumPy version >=1.16.5 and <1.23.0 is required for this version of SciPy (detected version 1.24.4)\n",
      "  warnings.warn(f\"A NumPy version >={np_minversion} and <{np_maxversion} is required for this version of \"\n"
     ]
    }
   ],
   "source": [
    "import pandas as pd\n",
    "import numpy as np\n",
    "from datetime import datetime\n",
    "import seaborn as sns\n",
    "import matplotlib.pyplot as plt"
   ]
  },
  {
   "cell_type": "markdown",
   "id": "2f3b25fc",
   "metadata": {},
   "source": [
    "#### Files Needed"
   ]
  },
  {
   "cell_type": "code",
   "execution_count": 3,
   "id": "e352f24d",
   "metadata": {},
   "outputs": [],
   "source": [
    "oil=pd.read_csv('./data/oil_dfinal.csv')"
   ]
  },
  {
   "cell_type": "code",
   "execution_count": 4,
   "id": "90a5b395",
   "metadata": {},
   "outputs": [],
   "source": [
    "tech=pd.read_csv('./data/tech_dfinal.csv')"
   ]
  },
  {
   "cell_type": "code",
   "execution_count": 5,
   "id": "6b4a8271",
   "metadata": {},
   "outputs": [],
   "source": [
    "events=pd.read_csv('./data/final_events.csv')"
   ]
  },
  {
   "cell_type": "markdown",
   "id": "5767239b",
   "metadata": {},
   "source": [
    "#### Fomatting of oil df"
   ]
  },
  {
   "cell_type": "code",
   "execution_count": 8,
   "id": "deb44735",
   "metadata": {},
   "outputs": [],
   "source": [
    "oil[\"Date\"]=pd.to_datetime(oil['Date'],utc=False,errors='coerce')"
   ]
  },
  {
   "cell_type": "code",
   "execution_count": 9,
   "id": "7336afab",
   "metadata": {},
   "outputs": [],
   "source": [
    "oil.Date= oil.Date.dt.strftime('%m/%d/%Y')\n"
   ]
  },
  {
   "cell_type": "code",
   "execution_count": 12,
   "id": "636cb752",
   "metadata": {},
   "outputs": [],
   "source": [
    "oil['Date']=pd.to_datetime(oil['Date'])"
   ]
  },
  {
   "cell_type": "code",
   "execution_count": 13,
   "id": "1939b463",
   "metadata": {},
   "outputs": [
    {
     "data": {
      "text/plain": [
       "Date            datetime64[ns]\n",
       "Open                   float64\n",
       "High                   float64\n",
       "Low                    float64\n",
       "Close                  float64\n",
       "Volume                   int64\n",
       "Dividends              float64\n",
       "Stock Splits           float64\n",
       "Ticker                  object\n",
       "dtype: object"
      ]
     },
     "execution_count": 13,
     "metadata": {},
     "output_type": "execute_result"
    }
   ],
   "source": [
    "oil.dtypes\n"
   ]
  },
  {
   "cell_type": "code",
   "execution_count": 14,
   "id": "2feddb3f",
   "metadata": {},
   "outputs": [],
   "source": [
    "to_drop=['Volume','Dividends','Stock Splits']\n",
    "oil=oil.drop(columns=to_drop)"
   ]
  },
  {
   "cell_type": "markdown",
   "id": "e6e66a78",
   "metadata": {},
   "source": [
    "#### Events cleaning and formatting"
   ]
  },
  {
   "cell_type": "code",
   "execution_count": 15,
   "id": "5b3ff8d3",
   "metadata": {},
   "outputs": [],
   "source": [
    "events=events.loc[(events['Year']>2000) & (events[\"Year\"]<=2020)]"
   ]
  },
  {
   "cell_type": "code",
   "execution_count": 16,
   "id": "e8464677",
   "metadata": {},
   "outputs": [],
   "source": [
    "events['Date']=pd.to_datetime(events['Date'])"
   ]
  },
  {
   "cell_type": "code",
   "execution_count": 17,
   "id": "9af6e107",
   "metadata": {},
   "outputs": [],
   "source": [
    "events=events[events['Date'].notnull()]"
   ]
  },
  {
   "cell_type": "code",
   "execution_count": 18,
   "id": "316a451d",
   "metadata": {},
   "outputs": [],
   "source": [
    "events['Type']=events['Type'].str.replace('Domestic  Terrorism','Domestic Terrorism')"
   ]
  },
  {
   "cell_type": "code",
   "execution_count": 19,
   "id": "4dc98722",
   "metadata": {},
   "outputs": [],
   "source": [
    "events['Type']=events['Type'].str.replace('Domestic Terrorism ','Domestic Terrorism')"
   ]
  },
  {
   "cell_type": "code",
   "execution_count": 20,
   "id": "c1b23df2",
   "metadata": {},
   "outputs": [],
   "source": [
    "index_to_drop=657"
   ]
  },
  {
   "cell_type": "code",
   "execution_count": 21,
   "id": "d7b581e1",
   "metadata": {},
   "outputs": [],
   "source": [
    "events=events.drop(index=index_to_drop)"
   ]
  },
  {
   "cell_type": "code",
   "execution_count": 22,
   "id": "49d15acf",
   "metadata": {},
   "outputs": [],
   "source": [
    "events.Type=events['Type'].str.replace('Accident ','Accident')"
   ]
  },
  {
   "cell_type": "code",
   "execution_count": 23,
   "id": "3ab40a58",
   "metadata": {},
   "outputs": [],
   "source": [
    "events=events.rename(columns={'Date':'Event_date'})\n"
   ]
  },
  {
   "cell_type": "code",
   "execution_count": 24,
   "id": "36dcd9ad",
   "metadata": {},
   "outputs": [],
   "source": [
    "events=events.loc[:,['Fatalities','Year','Article','Type','Location','Event_date']]"
   ]
  },
  {
   "cell_type": "code",
   "execution_count": 25,
   "id": "159066c3",
   "metadata": {},
   "outputs": [],
   "source": [
    "events.Fatalities=events.Fatalities.str.replace('2,996','2996')"
   ]
  },
  {
   "cell_type": "code",
   "execution_count": 26,
   "id": "261f45f8",
   "metadata": {},
   "outputs": [],
   "source": [
    "events.Fatalities=events.Fatalities.astype(int)"
   ]
  },
  {
   "cell_type": "code",
   "execution_count": 27,
   "id": "133a9748",
   "metadata": {},
   "outputs": [],
   "source": [
    "events['month']=events['Event_date'].dt.month"
   ]
  },
  {
   "cell_type": "code",
   "execution_count": null,
   "id": "24dd28fe",
   "metadata": {},
   "outputs": [],
   "source": []
  }
 ],
 "metadata": {
  "kernelspec": {
   "display_name": "Python 3",
   "language": "python",
   "name": "python3"
  },
  "language_info": {
   "codemirror_mode": {
    "name": "ipython",
    "version": 3
   },
   "file_extension": ".py",
   "mimetype": "text/x-python",
   "name": "python",
   "nbconvert_exporter": "python",
   "pygments_lexer": "ipython3",
   "version": "3.8.8"
  }
 },
 "nbformat": 4,
 "nbformat_minor": 5
}
