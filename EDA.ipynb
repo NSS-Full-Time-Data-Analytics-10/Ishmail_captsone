{
 "cells": [
  {
   "cell_type": "code",
   "execution_count": null,
   "id": "0975368d",
   "metadata": {},
   "outputs": [],
   "source": [
    "pip install mplfinance"
   ]
  },
  {
   "cell_type": "markdown",
   "id": "7457368d",
   "metadata": {},
   "source": [
    "### Exploratory Data Analysis"
   ]
  },
  {
   "cell_type": "code",
   "execution_count": 4,
   "id": "ba0f3b61",
   "metadata": {},
   "outputs": [
    {
     "name": "stderr",
     "output_type": "stream",
     "text": [
      "/Users/hq/opt/anaconda3/lib/python3.8/site-packages/scipy/__init__.py:138: UserWarning: A NumPy version >=1.16.5 and <1.23.0 is required for this version of SciPy (detected version 1.24.4)\n",
      "  warnings.warn(f\"A NumPy version >={np_minversion} and <{np_maxversion} is required for this version of \"\n"
     ]
    }
   ],
   "source": [
    "import pandas as pd\n",
    "import numpy as np\n",
    "from datetime import datetime\n",
    "import seaborn as sns\n",
    "import matplotlib.pyplot as plt\n"
   ]
  },
  {
   "cell_type": "markdown",
   "id": "228fe7ee",
   "metadata": {},
   "source": [
    "### Read in the files "
   ]
  },
  {
   "cell_type": "code",
   "execution_count": 5,
   "id": "0c3d05f9",
   "metadata": {},
   "outputs": [],
   "source": [
    "oil=pd.read_csv('./data/oil_dfinal.csv')"
   ]
  },
  {
   "cell_type": "code",
   "execution_count": 6,
   "id": "f56e7874",
   "metadata": {},
   "outputs": [],
   "source": [
    "tech=pd.read_csv('./data/tech_dfinal.csv')"
   ]
  },
  {
   "cell_type": "code",
   "execution_count": 7,
   "id": "4a841ac5",
   "metadata": {},
   "outputs": [],
   "source": [
    "events=pd.read_csv('./data/final_events.csv')"
   ]
  },
  {
   "cell_type": "markdown",
   "id": "c5f3ccd4",
   "metadata": {},
   "source": [
    "### Oil cleaning"
   ]
  },
  {
   "cell_type": "code",
   "execution_count": 8,
   "id": "38f78066",
   "metadata": {},
   "outputs": [],
   "source": [
    "oil['Date']=oil.Date.str[:10]"
   ]
  },
  {
   "cell_type": "code",
   "execution_count": 9,
   "id": "58024d0f",
   "metadata": {},
   "outputs": [],
   "source": [
    "oil[\"Date\"]=pd.to_datetime(oil['Date'])"
   ]
  },
  {
   "cell_type": "code",
   "execution_count": 10,
   "id": "920ddb0f",
   "metadata": {
    "scrolled": true
   },
   "outputs": [
    {
     "data": {
      "text/plain": [
       "Date            datetime64[ns]\n",
       "Open                   float64\n",
       "High                   float64\n",
       "Low                    float64\n",
       "Close                  float64\n",
       "Volume                   int64\n",
       "Dividends              float64\n",
       "Stock Splits           float64\n",
       "Ticker                  object\n",
       "dtype: object"
      ]
     },
     "execution_count": 10,
     "metadata": {},
     "output_type": "execute_result"
    }
   ],
   "source": [
    "oil.dtypes"
   ]
  },
  {
   "cell_type": "code",
   "execution_count": 11,
   "id": "181435c1",
   "metadata": {},
   "outputs": [
    {
     "data": {
      "text/html": [
       "<div>\n",
       "<style scoped>\n",
       "    .dataframe tbody tr th:only-of-type {\n",
       "        vertical-align: middle;\n",
       "    }\n",
       "\n",
       "    .dataframe tbody tr th {\n",
       "        vertical-align: top;\n",
       "    }\n",
       "\n",
       "    .dataframe thead th {\n",
       "        text-align: right;\n",
       "    }\n",
       "</style>\n",
       "<table border=\"1\" class=\"dataframe\">\n",
       "  <thead>\n",
       "    <tr style=\"text-align: right;\">\n",
       "      <th></th>\n",
       "      <th>Date</th>\n",
       "      <th>Open</th>\n",
       "      <th>High</th>\n",
       "      <th>Low</th>\n",
       "      <th>Close</th>\n",
       "      <th>Volume</th>\n",
       "      <th>Dividends</th>\n",
       "      <th>Stock Splits</th>\n",
       "      <th>Ticker</th>\n",
       "    </tr>\n",
       "  </thead>\n",
       "  <tbody>\n",
       "    <tr>\n",
       "      <th>0</th>\n",
       "      <td>2000-01-01</td>\n",
       "      <td>19.106632</td>\n",
       "      <td>20.728894</td>\n",
       "      <td>18.385627</td>\n",
       "      <td>20.413454</td>\n",
       "      <td>81519400</td>\n",
       "      <td>0.0</td>\n",
       "      <td>0.0</td>\n",
       "      <td>XOM</td>\n",
       "    </tr>\n",
       "    <tr>\n",
       "      <th>1</th>\n",
       "      <td>2000-01-08</td>\n",
       "      <td>20.233202</td>\n",
       "      <td>20.668809</td>\n",
       "      <td>19.902742</td>\n",
       "      <td>20.128056</td>\n",
       "      <td>50907000</td>\n",
       "      <td>0.0</td>\n",
       "      <td>0.0</td>\n",
       "      <td>XOM</td>\n",
       "    </tr>\n",
       "    <tr>\n",
       "      <th>2</th>\n",
       "      <td>2000-01-15</td>\n",
       "      <td>19.887721</td>\n",
       "      <td>20.638768</td>\n",
       "      <td>19.797595</td>\n",
       "      <td>20.428474</td>\n",
       "      <td>48975200</td>\n",
       "      <td>0.0</td>\n",
       "      <td>0.0</td>\n",
       "      <td>XOM</td>\n",
       "    </tr>\n",
       "    <tr>\n",
       "      <th>3</th>\n",
       "      <td>2000-01-22</td>\n",
       "      <td>20.533617</td>\n",
       "      <td>20.743910</td>\n",
       "      <td>18.956419</td>\n",
       "      <td>18.956419</td>\n",
       "      <td>54588400</td>\n",
       "      <td>0.0</td>\n",
       "      <td>0.0</td>\n",
       "      <td>XOM</td>\n",
       "    </tr>\n",
       "    <tr>\n",
       "      <th>4</th>\n",
       "      <td>2000-01-29</td>\n",
       "      <td>18.896334</td>\n",
       "      <td>20.398428</td>\n",
       "      <td>18.716083</td>\n",
       "      <td>19.437088</td>\n",
       "      <td>59887400</td>\n",
       "      <td>0.0</td>\n",
       "      <td>0.0</td>\n",
       "      <td>XOM</td>\n",
       "    </tr>\n",
       "    <tr>\n",
       "      <th>...</th>\n",
       "      <td>...</td>\n",
       "      <td>...</td>\n",
       "      <td>...</td>\n",
       "      <td>...</td>\n",
       "      <td>...</td>\n",
       "      <td>...</td>\n",
       "      <td>...</td>\n",
       "      <td>...</td>\n",
       "      <td>...</td>\n",
       "    </tr>\n",
       "    <tr>\n",
       "      <th>9717</th>\n",
       "      <td>2020-11-28</td>\n",
       "      <td>43.274048</td>\n",
       "      <td>45.192224</td>\n",
       "      <td>39.480325</td>\n",
       "      <td>45.183701</td>\n",
       "      <td>46884000</td>\n",
       "      <td>0.0</td>\n",
       "      <td>0.0</td>\n",
       "      <td>EOG</td>\n",
       "    </tr>\n",
       "    <tr>\n",
       "      <th>9718</th>\n",
       "      <td>2020-12-05</td>\n",
       "      <td>44.569884</td>\n",
       "      <td>47.698644</td>\n",
       "      <td>43.495707</td>\n",
       "      <td>45.695213</td>\n",
       "      <td>26584300</td>\n",
       "      <td>0.0</td>\n",
       "      <td>0.0</td>\n",
       "      <td>EOG</td>\n",
       "    </tr>\n",
       "    <tr>\n",
       "      <th>9719</th>\n",
       "      <td>2020-12-12</td>\n",
       "      <td>46.411327</td>\n",
       "      <td>46.615934</td>\n",
       "      <td>43.504226</td>\n",
       "      <td>44.135094</td>\n",
       "      <td>25400800</td>\n",
       "      <td>0.0</td>\n",
       "      <td>0.0</td>\n",
       "      <td>EOG</td>\n",
       "    </tr>\n",
       "    <tr>\n",
       "      <th>9720</th>\n",
       "      <td>2020-12-19</td>\n",
       "      <td>42.037889</td>\n",
       "      <td>43.683258</td>\n",
       "      <td>41.364395</td>\n",
       "      <td>42.285118</td>\n",
       "      <td>16140100</td>\n",
       "      <td>0.0</td>\n",
       "      <td>0.0</td>\n",
       "      <td>EOG</td>\n",
       "    </tr>\n",
       "    <tr>\n",
       "      <th>9721</th>\n",
       "      <td>2020-12-26</td>\n",
       "      <td>42.455632</td>\n",
       "      <td>43.180278</td>\n",
       "      <td>41.091597</td>\n",
       "      <td>42.515308</td>\n",
       "      <td>9354400</td>\n",
       "      <td>0.0</td>\n",
       "      <td>0.0</td>\n",
       "      <td>EOG</td>\n",
       "    </tr>\n",
       "  </tbody>\n",
       "</table>\n",
       "<p>9722 rows × 9 columns</p>\n",
       "</div>"
      ],
      "text/plain": [
       "           Date       Open       High        Low      Close    Volume  \\\n",
       "0    2000-01-01  19.106632  20.728894  18.385627  20.413454  81519400   \n",
       "1    2000-01-08  20.233202  20.668809  19.902742  20.128056  50907000   \n",
       "2    2000-01-15  19.887721  20.638768  19.797595  20.428474  48975200   \n",
       "3    2000-01-22  20.533617  20.743910  18.956419  18.956419  54588400   \n",
       "4    2000-01-29  18.896334  20.398428  18.716083  19.437088  59887400   \n",
       "...         ...        ...        ...        ...        ...       ...   \n",
       "9717 2020-11-28  43.274048  45.192224  39.480325  45.183701  46884000   \n",
       "9718 2020-12-05  44.569884  47.698644  43.495707  45.695213  26584300   \n",
       "9719 2020-12-12  46.411327  46.615934  43.504226  44.135094  25400800   \n",
       "9720 2020-12-19  42.037889  43.683258  41.364395  42.285118  16140100   \n",
       "9721 2020-12-26  42.455632  43.180278  41.091597  42.515308   9354400   \n",
       "\n",
       "      Dividends  Stock Splits Ticker  \n",
       "0           0.0           0.0    XOM  \n",
       "1           0.0           0.0    XOM  \n",
       "2           0.0           0.0    XOM  \n",
       "3           0.0           0.0    XOM  \n",
       "4           0.0           0.0    XOM  \n",
       "...         ...           ...    ...  \n",
       "9717        0.0           0.0    EOG  \n",
       "9718        0.0           0.0    EOG  \n",
       "9719        0.0           0.0    EOG  \n",
       "9720        0.0           0.0    EOG  \n",
       "9721        0.0           0.0    EOG  \n",
       "\n",
       "[9722 rows x 9 columns]"
      ]
     },
     "execution_count": 11,
     "metadata": {},
     "output_type": "execute_result"
    }
   ],
   "source": [
    "oil"
   ]
  },
  {
   "cell_type": "code",
   "execution_count": null,
   "id": "ea46ed41",
   "metadata": {},
   "outputs": [],
   "source": []
  },
  {
   "cell_type": "code",
   "execution_count": 12,
   "id": "5bd0bb1f",
   "metadata": {},
   "outputs": [
    {
     "data": {
      "text/plain": [
       "Date            datetime64[ns]\n",
       "Open                   float64\n",
       "High                   float64\n",
       "Low                    float64\n",
       "Close                  float64\n",
       "Volume                   int64\n",
       "Dividends              float64\n",
       "Stock Splits           float64\n",
       "Ticker                  object\n",
       "dtype: object"
      ]
     },
     "execution_count": 12,
     "metadata": {},
     "output_type": "execute_result"
    }
   ],
   "source": [
    "oil.dtypes"
   ]
  },
  {
   "cell_type": "code",
   "execution_count": 13,
   "id": "48aefcff",
   "metadata": {},
   "outputs": [],
   "source": [
    "#drop columns not being used\n",
    "to_drop=['Volume','Dividends','Stock Splits']\n",
    "oil=oil.drop(columns=to_drop)"
   ]
  },
  {
   "cell_type": "code",
   "execution_count": 14,
   "id": "81d710c1",
   "metadata": {},
   "outputs": [],
   "source": [
    "grouped_mean=oil.groupby('Ticker')['Open'].mean()"
   ]
  },
  {
   "cell_type": "code",
   "execution_count": 15,
   "id": "1d7b7c36",
   "metadata": {},
   "outputs": [],
   "source": [
    "grouped_mean=grouped_mean.to_frame().reset_index()"
   ]
  },
  {
   "cell_type": "code",
   "execution_count": 16,
   "id": "3a6a297b",
   "metadata": {},
   "outputs": [
    {
     "data": {
      "text/html": [
       "<div>\n",
       "<style scoped>\n",
       "    .dataframe tbody tr th:only-of-type {\n",
       "        vertical-align: middle;\n",
       "    }\n",
       "\n",
       "    .dataframe tbody tr th {\n",
       "        vertical-align: top;\n",
       "    }\n",
       "\n",
       "    .dataframe thead th {\n",
       "        text-align: right;\n",
       "    }\n",
       "</style>\n",
       "<table border=\"1\" class=\"dataframe\">\n",
       "  <thead>\n",
       "    <tr style=\"text-align: right;\">\n",
       "      <th></th>\n",
       "      <th>Ticker</th>\n",
       "      <th>Open</th>\n",
       "    </tr>\n",
       "  </thead>\n",
       "  <tbody>\n",
       "    <tr>\n",
       "      <th>0</th>\n",
       "      <td>BP</td>\n",
       "      <td>23.633116</td>\n",
       "    </tr>\n",
       "    <tr>\n",
       "      <th>1</th>\n",
       "      <td>COP</td>\n",
       "      <td>31.504059</td>\n",
       "    </tr>\n",
       "    <tr>\n",
       "      <th>2</th>\n",
       "      <td>CVX</td>\n",
       "      <td>53.907707</td>\n",
       "    </tr>\n",
       "    <tr>\n",
       "      <th>3</th>\n",
       "      <td>EOG</td>\n",
       "      <td>40.624724</td>\n",
       "    </tr>\n",
       "    <tr>\n",
       "      <th>4</th>\n",
       "      <td>MPC</td>\n",
       "      <td>35.828085</td>\n",
       "    </tr>\n",
       "    <tr>\n",
       "      <th>5</th>\n",
       "      <td>OXY</td>\n",
       "      <td>38.967548</td>\n",
       "    </tr>\n",
       "    <tr>\n",
       "      <th>6</th>\n",
       "      <td>PSX</td>\n",
       "      <td>61.434590</td>\n",
       "    </tr>\n",
       "    <tr>\n",
       "      <th>7</th>\n",
       "      <td>SHEL</td>\n",
       "      <td>31.995415</td>\n",
       "    </tr>\n",
       "    <tr>\n",
       "      <th>8</th>\n",
       "      <td>VLO</td>\n",
       "      <td>28.486521</td>\n",
       "    </tr>\n",
       "    <tr>\n",
       "      <th>9</th>\n",
       "      <td>XOM</td>\n",
       "      <td>43.574640</td>\n",
       "    </tr>\n",
       "  </tbody>\n",
       "</table>\n",
       "</div>"
      ],
      "text/plain": [
       "  Ticker       Open\n",
       "0     BP  23.633116\n",
       "1    COP  31.504059\n",
       "2    CVX  53.907707\n",
       "3    EOG  40.624724\n",
       "4    MPC  35.828085\n",
       "5    OXY  38.967548\n",
       "6    PSX  61.434590\n",
       "7   SHEL  31.995415\n",
       "8    VLO  28.486521\n",
       "9    XOM  43.574640"
      ]
     },
     "execution_count": 16,
     "metadata": {},
     "output_type": "execute_result"
    }
   ],
   "source": [
    "grouped_mean"
   ]
  },
  {
   "cell_type": "code",
   "execution_count": 17,
   "id": "86586b64",
   "metadata": {},
   "outputs": [
    {
     "data": {
      "image/png": "[encoded data removed]",
      "text/plain": [
       "<Figure size 432x288 with 1 Axes>"
      ]
     },
     "metadata": {
      "needs_background": "light"
     },
     "output_type": "display_data"
    }
   ],
   "source": [
    "plt.bar('Ticker','Open',data=grouped_mean)\n",
    "plt.title('Mean Open For Oil Companies')\n",
    "plt.xlabel('Ticker')\n",
    "plt.ylabel('Price')\n",
    "plt.show()"
   ]
  },
  {
   "cell_type": "code",
   "execution_count": 18,
   "id": "c18e1dbb",
   "metadata": {},
   "outputs": [
    {
     "ename": "NameError",
     "evalue": "name 'oilb' is not defined",
     "output_type": "error",
     "traceback": [
      "\u001b[0;31m---------------------------------------------------------------------------\u001b[0m",
      "\u001b[0;31mNameError\u001b[0m                                 Traceback (most recent call last)",
      "\u001b[0;32m<ipython-input-18-51fc5219219f>\u001b[0m in \u001b[0;36m<module>\u001b[0;34m\u001b[0m\n\u001b[0;32m----> 1\u001b[0;31m \u001b[0moilb\u001b[0m\u001b[0;34m\u001b[0m\u001b[0;34m\u001b[0m\u001b[0m\n\u001b[0m",
      "\u001b[0;31mNameError\u001b[0m: name 'oilb' is not defined"
     ]
    }
   ],
   "source": [
    "oilb"
   ]
  },
  {
   "cell_type": "code",
   "execution_count": 19,
   "id": "e6117da7",
   "metadata": {},
   "outputs": [
    {
     "data": {
      "text/plain": [
       "0            Accident – shipwreck\n",
       "1                Tropical cyclone\n",
       "2      Fire (urban conflagration)\n",
       "3            Accident – coal mine\n",
       "4            Accident – coal mine\n",
       "                  ...            \n",
       "966         Natural gas explosion\n",
       "967              Tornado outbreak\n",
       "968     Domestic Natural Disaster\n",
       "969     Domestic Natural Disaster\n",
       "970                     Terrorism\n",
       "Name: Type, Length: 971, dtype: object"
      ]
     },
     "execution_count": 19,
     "metadata": {},
     "output_type": "execute_result"
    }
   ],
   "source": [
    "events.Type"
   ]
  },
  {
   "cell_type": "code",
   "execution_count": null,
   "id": "140dde43",
   "metadata": {},
   "outputs": [],
   "source": []
  },
  {
   "cell_type": "code",
   "execution_count": null,
   "id": "7403ff64",
   "metadata": {},
   "outputs": [],
   "source": []
  },
  {
   "cell_type": "code",
   "execution_count": null,
   "id": "8ba9ff8d",
   "metadata": {},
   "outputs": [],
   "source": []
  },
  {
   "cell_type": "code",
   "execution_count": null,
   "id": "8949d634",
   "metadata": {},
   "outputs": [],
   "source": []
  },
  {
   "cell_type": "code",
   "execution_count": null,
   "id": "9a5fba8c",
   "metadata": {},
   "outputs": [],
   "source": []
  },
  {
   "cell_type": "code",
   "execution_count": null,
   "id": "1813aeb2",
   "metadata": {},
   "outputs": [],
   "source": []
  },
  {
   "cell_type": "code",
   "execution_count": null,
   "id": "4fe48906",
   "metadata": {},
   "outputs": [],
   "source": []
  },
  {
   "cell_type": "code",
   "execution_count": null,
   "id": "ebaf4f91",
   "metadata": {},
   "outputs": [],
   "source": []
  },
  {
   "cell_type": "code",
   "execution_count": null,
   "id": "031d5fbb",
   "metadata": {},
   "outputs": [],
   "source": []
  },
  {
   "cell_type": "code",
   "execution_count": null,
   "id": "c3a4329b",
   "metadata": {},
   "outputs": [],
   "source": []
  },
  {
   "cell_type": "markdown",
   "id": "d93b8b53",
   "metadata": {},
   "source": [
    "events.Fatalities=events.Fatalities.astype(int)\n"
   ]
  },
  {
   "cell_type": "code",
   "execution_count": null,
   "id": "6fa49522",
   "metadata": {},
   "outputs": [],
   "source": []
  },
  {
   "cell_type": "code",
   "execution_count": null,
   "id": "3b61bf80",
   "metadata": {},
   "outputs": [],
   "source": []
  },
  {
   "cell_type": "markdown",
   "id": "07733740",
   "metadata": {},
   "source": [
    "### Events cleaning "
   ]
  },
  {
   "cell_type": "code",
   "execution_count": null,
   "id": "4133872f",
   "metadata": {},
   "outputs": [],
   "source": [
    "events=events.loc[(events['Year']>2000) & (events[\"Year\"]<=2020)]"
   ]
  },
  {
   "cell_type": "code",
   "execution_count": null,
   "id": "60066fc0",
   "metadata": {},
   "outputs": [],
   "source": [
    "events['Date']=pd.to_datetime(events['Date'])"
   ]
  },
  {
   "cell_type": "code",
   "execution_count": null,
   "id": "ee9bcd5a",
   "metadata": {},
   "outputs": [],
   "source": [
    "events=events[events['Date'].notnull()]"
   ]
  },
  {
   "cell_type": "code",
   "execution_count": null,
   "id": "f5c68967",
   "metadata": {},
   "outputs": [],
   "source": [
    "events['Type']=events['Type'].str.replace('Domestic  Terrorism','Domestic Terrorism')\n"
   ]
  },
  {
   "cell_type": "code",
   "execution_count": null,
   "id": "9ac1df1f",
   "metadata": {},
   "outputs": [],
   "source": [
    "events['Type']=events['Type'].str.replace('Domestic Terrorism ','Domestic Terrorism')"
   ]
  },
  {
   "cell_type": "code",
   "execution_count": null,
   "id": "4d4cd204",
   "metadata": {},
   "outputs": [],
   "source": [
    "index_to_drop=657"
   ]
  },
  {
   "cell_type": "code",
   "execution_count": null,
   "id": "3fd5a9aa",
   "metadata": {},
   "outputs": [],
   "source": [
    "events=events.drop(index=index_to_drop)"
   ]
  },
  {
   "cell_type": "code",
   "execution_count": null,
   "id": "9fcbade2",
   "metadata": {},
   "outputs": [],
   "source": [
    "events.Type=events['Type'].str.replace('Accident ','Accident')"
   ]
  },
  {
   "cell_type": "code",
   "execution_count": null,
   "id": "1663b6c6",
   "metadata": {},
   "outputs": [],
   "source": [
    "events=events.rename(columns={'Date':'Event_date'})\n"
   ]
  },
  {
   "cell_type": "code",
   "execution_count": null,
   "id": "5c5de8f9",
   "metadata": {},
   "outputs": [],
   "source": [
    "events=events.loc[:,['Fatalities','Year','Article','Type','Location','Event_date']]"
   ]
  },
  {
   "cell_type": "code",
   "execution_count": null,
   "id": "76d2924e",
   "metadata": {},
   "outputs": [],
   "source": [
    "events.Fatalities=events.Fatalities.str.replace('2,996','2996')"
   ]
  },
  {
   "cell_type": "code",
   "execution_count": null,
   "id": "e0d019f1",
   "metadata": {},
   "outputs": [],
   "source": [
    "events.Fatalities=events.Fatalities.astype(int)"
   ]
  },
  {
   "cell_type": "code",
   "execution_count": null,
   "id": "6c7ad2ac",
   "metadata": {},
   "outputs": [],
   "source": [
    "events['month']=events['Event_date'].dt.month"
   ]
  },
  {
   "cell_type": "markdown",
   "id": "af23ba68",
   "metadata": {},
   "source": [
    "### cleaned events df"
   ]
  },
  {
   "cell_type": "code",
   "execution_count": null,
   "id": "e0b345e2",
   "metadata": {},
   "outputs": [],
   "source": [
    "events.dtypes"
   ]
  },
  {
   "cell_type": "code",
   "execution_count": null,
   "id": "826049e7",
   "metadata": {
    "scrolled": true
   },
   "outputs": [],
   "source": [
    "\n",
    "events.Type"
   ]
  },
  {
   "cell_type": "code",
   "execution_count": null,
   "id": "31067f8f",
   "metadata": {},
   "outputs": [],
   "source": [
    "events.Type.loc[events['Type']=='Terrorism']='Int Terrorsim'"
   ]
  },
  {
   "cell_type": "code",
   "execution_count": null,
   "id": "2da76e15",
   "metadata": {},
   "outputs": [],
   "source": [
    "events.Type"
   ]
  },
  {
   "cell_type": "markdown",
   "id": "527cf828",
   "metadata": {},
   "source": [
    "events.Fatalities=events.Fatalities.astype(int)\n"
   ]
  },
  {
   "cell_type": "code",
   "execution_count": null,
   "id": "e640a05f",
   "metadata": {},
   "outputs": [],
   "source": [
    "#events['Type']=events['Type'].str.replace('Terrorism','Non Domestic')"
   ]
  },
  {
   "cell_type": "code",
   "execution_count": null,
   "id": "22a6542a",
   "metadata": {},
   "outputs": [],
   "source": [
    "events['Location']=events['Location'].str.replace('Sutherland Springs, Texas','Domestic')"
   ]
  },
  {
   "cell_type": "code",
   "execution_count": null,
   "id": "2b95b073",
   "metadata": {},
   "outputs": [],
   "source": []
  },
  {
   "cell_type": "code",
   "execution_count": 20,
   "id": "ef387b21",
   "metadata": {},
   "outputs": [
    {
     "data": {
      "text/plain": [
       "0            Accident – shipwreck\n",
       "1                Tropical cyclone\n",
       "2      Fire (urban conflagration)\n",
       "3            Accident – coal mine\n",
       "4            Accident – coal mine\n",
       "                  ...            \n",
       "966         Natural gas explosion\n",
       "967              Tornado outbreak\n",
       "968     Domestic Natural Disaster\n",
       "969     Domestic Natural Disaster\n",
       "970                     Terrorism\n",
       "Name: Type, Length: 971, dtype: object"
      ]
     },
     "execution_count": 20,
     "metadata": {},
     "output_type": "execute_result"
    }
   ],
   "source": [
    "events.Type"
   ]
  },
  {
   "cell_type": "code",
   "execution_count": null,
   "id": "81ed3ce1",
   "metadata": {},
   "outputs": [],
   "source": []
  },
  {
   "cell_type": "code",
   "execution_count": null,
   "id": "285f5171",
   "metadata": {},
   "outputs": [],
   "source": []
  },
  {
   "cell_type": "markdown",
   "id": "e5c9b281",
   "metadata": {},
   "source": [
    "### Final Before event has occured"
   ]
  },
  {
   "cell_type": "code",
   "execution_count": 21,
   "id": "934a5cc5",
   "metadata": {},
   "outputs": [
    {
     "ename": "KeyError",
     "evalue": "'Event_date'",
     "output_type": "error",
     "traceback": [
      "\u001b[0;31m---------------------------------------------------------------------------\u001b[0m",
      "\u001b[0;31mKeyError\u001b[0m                                  Traceback (most recent call last)",
      "\u001b[0;32m~/opt/anaconda3/lib/python3.8/site-packages/pandas/core/indexes/base.py\u001b[0m in \u001b[0;36mget_loc\u001b[0;34m(self, key)\u001b[0m\n\u001b[1;32m   3652\u001b[0m         \u001b[0;32mtry\u001b[0m\u001b[0;34m:\u001b[0m\u001b[0;34m\u001b[0m\u001b[0;34m\u001b[0m\u001b[0m\n\u001b[0;32m-> 3653\u001b[0;31m             \u001b[0;32mreturn\u001b[0m \u001b[0mself\u001b[0m\u001b[0;34m.\u001b[0m\u001b[0m_engine\u001b[0m\u001b[0;34m.\u001b[0m\u001b[0mget_loc\u001b[0m\u001b[0;34m(\u001b[0m\u001b[0mcasted_key\u001b[0m\u001b[0;34m)\u001b[0m\u001b[0;34m\u001b[0m\u001b[0;34m\u001b[0m\u001b[0m\n\u001b[0m\u001b[1;32m   3654\u001b[0m         \u001b[0;32mexcept\u001b[0m \u001b[0mKeyError\u001b[0m \u001b[0;32mas\u001b[0m \u001b[0merr\u001b[0m\u001b[0;34m:\u001b[0m\u001b[0;34m\u001b[0m\u001b[0;34m\u001b[0m\u001b[0m\n",
      "\u001b[0;32m~/opt/anaconda3/lib/python3.8/site-packages/pandas/_libs/index.pyx\u001b[0m in \u001b[0;36mpandas._libs.index.IndexEngine.get_loc\u001b[0;34m()\u001b[0m\n",
      "\u001b[0;32m~/opt/anaconda3/lib/python3.8/site-packages/pandas/_libs/index.pyx\u001b[0m in \u001b[0;36mpandas._libs.index.IndexEngine.get_loc\u001b[0;34m()\u001b[0m\n",
      "\u001b[0;32mpandas/_libs/hashtable_class_helper.pxi\u001b[0m in \u001b[0;36mpandas._libs.hashtable.PyObjectHashTable.get_item\u001b[0;34m()\u001b[0m\n",
      "\u001b[0;32mpandas/_libs/hashtable_class_helper.pxi\u001b[0m in \u001b[0;36mpandas._libs.hashtable.PyObjectHashTable.get_item\u001b[0;34m()\u001b[0m\n",
      "\u001b[0;31mKeyError\u001b[0m: 'Event_date'",
      "\nThe above exception was the direct cause of the following exception:\n",
      "\u001b[0;31mKeyError\u001b[0m                                  Traceback (most recent call last)",
      "\u001b[0;32m<ipython-input-21-d1ad0130376a>\u001b[0m in \u001b[0;36m<module>\u001b[0;34m\u001b[0m\n\u001b[1;32m      5\u001b[0m \u001b[0;31m# Iterate through each historical event\u001b[0m\u001b[0;34m\u001b[0m\u001b[0;34m\u001b[0m\u001b[0;34m\u001b[0m\u001b[0m\n\u001b[1;32m      6\u001b[0m \u001b[0;32mfor\u001b[0m \u001b[0mindex\u001b[0m\u001b[0;34m,\u001b[0m \u001b[0mevent_row\u001b[0m \u001b[0;32min\u001b[0m \u001b[0mevents\u001b[0m\u001b[0;34m.\u001b[0m\u001b[0miterrows\u001b[0m\u001b[0;34m(\u001b[0m\u001b[0;34m)\u001b[0m\u001b[0;34m:\u001b[0m\u001b[0;34m\u001b[0m\u001b[0;34m\u001b[0m\u001b[0m\n\u001b[0;32m----> 7\u001b[0;31m     \u001b[0mevent_date\u001b[0m \u001b[0;34m=\u001b[0m \u001b[0mevent_row\u001b[0m\u001b[0;34m[\u001b[0m\u001b[0;34m'Event_date'\u001b[0m\u001b[0;34m]\u001b[0m\u001b[0;34m\u001b[0m\u001b[0;34m\u001b[0m\u001b[0m\n\u001b[0m\u001b[1;32m      8\u001b[0m \u001b[0;34m\u001b[0m\u001b[0m\n\u001b[1;32m      9\u001b[0m     \u001b[0;31m# Calculate the date range for 7 days before the event\u001b[0m\u001b[0;34m\u001b[0m\u001b[0;34m\u001b[0m\u001b[0;34m\u001b[0m\u001b[0m\n",
      "\u001b[0;32m~/opt/anaconda3/lib/python3.8/site-packages/pandas/core/series.py\u001b[0m in \u001b[0;36m__getitem__\u001b[0;34m(self, key)\u001b[0m\n\u001b[1;32m   1005\u001b[0m \u001b[0;34m\u001b[0m\u001b[0m\n\u001b[1;32m   1006\u001b[0m         \u001b[0;32melif\u001b[0m \u001b[0mkey_is_scalar\u001b[0m\u001b[0;34m:\u001b[0m\u001b[0;34m\u001b[0m\u001b[0;34m\u001b[0m\u001b[0m\n\u001b[0;32m-> 1007\u001b[0;31m             \u001b[0;32mreturn\u001b[0m \u001b[0mself\u001b[0m\u001b[0;34m.\u001b[0m\u001b[0m_get_value\u001b[0m\u001b[0;34m(\u001b[0m\u001b[0mkey\u001b[0m\u001b[0;34m)\u001b[0m\u001b[0;34m\u001b[0m\u001b[0;34m\u001b[0m\u001b[0m\n\u001b[0m\u001b[1;32m   1008\u001b[0m \u001b[0;34m\u001b[0m\u001b[0m\n\u001b[1;32m   1009\u001b[0m         \u001b[0;32mif\u001b[0m \u001b[0mis_hashable\u001b[0m\u001b[0;34m(\u001b[0m\u001b[0mkey\u001b[0m\u001b[0;34m)\u001b[0m\u001b[0;34m:\u001b[0m\u001b[0;34m\u001b[0m\u001b[0;34m\u001b[0m\u001b[0m\n",
      "\u001b[0;32m~/opt/anaconda3/lib/python3.8/site-packages/pandas/core/series.py\u001b[0m in \u001b[0;36m_get_value\u001b[0;34m(self, label, takeable)\u001b[0m\n\u001b[1;32m   1114\u001b[0m \u001b[0;34m\u001b[0m\u001b[0m\n\u001b[1;32m   1115\u001b[0m         \u001b[0;31m# Similar to Index.get_value, but we do not fall back to positional\u001b[0m\u001b[0;34m\u001b[0m\u001b[0;34m\u001b[0m\u001b[0;34m\u001b[0m\u001b[0m\n\u001b[0;32m-> 1116\u001b[0;31m         \u001b[0mloc\u001b[0m \u001b[0;34m=\u001b[0m \u001b[0mself\u001b[0m\u001b[0;34m.\u001b[0m\u001b[0mindex\u001b[0m\u001b[0;34m.\u001b[0m\u001b[0mget_loc\u001b[0m\u001b[0;34m(\u001b[0m\u001b[0mlabel\u001b[0m\u001b[0;34m)\u001b[0m\u001b[0;34m\u001b[0m\u001b[0;34m\u001b[0m\u001b[0m\n\u001b[0m\u001b[1;32m   1117\u001b[0m \u001b[0;34m\u001b[0m\u001b[0m\n\u001b[1;32m   1118\u001b[0m         \u001b[0;32mif\u001b[0m \u001b[0mis_integer\u001b[0m\u001b[0;34m(\u001b[0m\u001b[0mloc\u001b[0m\u001b[0;34m)\u001b[0m\u001b[0;34m:\u001b[0m\u001b[0;34m\u001b[0m\u001b[0;34m\u001b[0m\u001b[0m\n",
      "\u001b[0;32m~/opt/anaconda3/lib/python3.8/site-packages/pandas/core/indexes/base.py\u001b[0m in \u001b[0;36mget_loc\u001b[0;34m(self, key)\u001b[0m\n\u001b[1;32m   3653\u001b[0m             \u001b[0;32mreturn\u001b[0m \u001b[0mself\u001b[0m\u001b[0;34m.\u001b[0m\u001b[0m_engine\u001b[0m\u001b[0;34m.\u001b[0m\u001b[0mget_loc\u001b[0m\u001b[0;34m(\u001b[0m\u001b[0mcasted_key\u001b[0m\u001b[0;34m)\u001b[0m\u001b[0;34m\u001b[0m\u001b[0;34m\u001b[0m\u001b[0m\n\u001b[1;32m   3654\u001b[0m         \u001b[0;32mexcept\u001b[0m \u001b[0mKeyError\u001b[0m \u001b[0;32mas\u001b[0m \u001b[0merr\u001b[0m\u001b[0;34m:\u001b[0m\u001b[0;34m\u001b[0m\u001b[0;34m\u001b[0m\u001b[0m\n\u001b[0;32m-> 3655\u001b[0;31m             \u001b[0;32mraise\u001b[0m \u001b[0mKeyError\u001b[0m\u001b[0;34m(\u001b[0m\u001b[0mkey\u001b[0m\u001b[0;34m)\u001b[0m \u001b[0;32mfrom\u001b[0m \u001b[0merr\u001b[0m\u001b[0;34m\u001b[0m\u001b[0;34m\u001b[0m\u001b[0m\n\u001b[0m\u001b[1;32m   3656\u001b[0m         \u001b[0;32mexcept\u001b[0m \u001b[0mTypeError\u001b[0m\u001b[0;34m:\u001b[0m\u001b[0;34m\u001b[0m\u001b[0;34m\u001b[0m\u001b[0m\n\u001b[1;32m   3657\u001b[0m             \u001b[0;31m# If we have a listlike key, _check_indexing_error will raise\u001b[0m\u001b[0;34m\u001b[0m\u001b[0;34m\u001b[0m\u001b[0;34m\u001b[0m\u001b[0m\n",
      "\u001b[0;31mKeyError\u001b[0m: 'Event_date'"
     ]
    }
   ],
   "source": [
    "\n",
    "\n",
    "\n",
    "\n",
    "rolling_window_size = '7D'\n",
    "\n",
    "oilb = pd.DataFrame()\n",
    "\n",
    "# Iterate through each historical event\n",
    "for index, event_row in events.iterrows():\n",
    "    event_date = event_row['Event_date']\n",
    "    \n",
    "    # Calculate the date range for 7 days before the event\n",
    "    date_range_start = event_date - pd.Timedelta(days=7)\n",
    "    \n",
    "    # Filter oil DataFrame for the specified date range\n",
    "    filtered_data = oil[(oil['Date'] >= date_range_start) & (oil['Date'] <= event_date)]\n",
    "    \n",
    "    # Add the 'Event_date' and 'Type' columns from events DataFrame to each row\n",
    "    filtered_data['Event_date'] = event_date\n",
    "    filtered_data['Type'] = event_row['Type']\n",
    "    \n",
    "    # Append the filtered data to the oilb DataFrame\n",
    "    oilb = pd.concat([oilb, filtered_data])\n",
    "\n",
    "\n"
   ]
  },
  {
   "cell_type": "code",
   "execution_count": 22,
   "id": "99779775",
   "metadata": {},
   "outputs": [],
   "source": [
    "oilb=oilb.reset_index()"
   ]
  },
  {
   "cell_type": "code",
   "execution_count": 23,
   "id": "57b4d143",
   "metadata": {},
   "outputs": [
    {
     "data": {
      "text/html": [
       "<div>\n",
       "<style scoped>\n",
       "    .dataframe tbody tr th:only-of-type {\n",
       "        vertical-align: middle;\n",
       "    }\n",
       "\n",
       "    .dataframe tbody tr th {\n",
       "        vertical-align: top;\n",
       "    }\n",
       "\n",
       "    .dataframe thead th {\n",
       "        text-align: right;\n",
       "    }\n",
       "</style>\n",
       "<table border=\"1\" class=\"dataframe\">\n",
       "  <thead>\n",
       "    <tr style=\"text-align: right;\">\n",
       "      <th></th>\n",
       "      <th>index</th>\n",
       "    </tr>\n",
       "  </thead>\n",
       "  <tbody>\n",
       "  </tbody>\n",
       "</table>\n",
       "</div>"
      ],
      "text/plain": [
       "Empty DataFrame\n",
       "Columns: [index]\n",
       "Index: []"
      ]
     },
     "execution_count": 23,
     "metadata": {},
     "output_type": "execute_result"
    }
   ],
   "source": [
    "oilb"
   ]
  },
  {
   "cell_type": "markdown",
   "id": "c7c0853b",
   "metadata": {},
   "source": [
    "## Lets Dive"
   ]
  },
  {
   "cell_type": "markdown",
   "id": "e361f3e0",
   "metadata": {},
   "source": [
    "1. Retrieve the averages of industry through Types 5-7 days before the event has occurred."
   ]
  },
  {
   "cell_type": "code",
   "execution_count": 24,
   "id": "e4cfcb1c",
   "metadata": {},
   "outputs": [
    {
     "ename": "KeyError",
     "evalue": "'Type'",
     "output_type": "error",
     "traceback": [
      "\u001b[0;31m---------------------------------------------------------------------------\u001b[0m",
      "\u001b[0;31mKeyError\u001b[0m                                  Traceback (most recent call last)",
      "\u001b[0;32m<ipython-input-24-88a77d4da6d7>\u001b[0m in \u001b[0;36m<module>\u001b[0;34m\u001b[0m\n\u001b[0;32m----> 1\u001b[0;31m \u001b[0mav_oilb\u001b[0m\u001b[0;34m=\u001b[0m \u001b[0moilb\u001b[0m\u001b[0;34m.\u001b[0m\u001b[0mgroupby\u001b[0m\u001b[0;34m(\u001b[0m\u001b[0;34m'Type'\u001b[0m\u001b[0;34m)\u001b[0m\u001b[0;34m.\u001b[0m\u001b[0magg\u001b[0m\u001b[0;34m(\u001b[0m\u001b[0;34m{\u001b[0m\u001b[0;34m'Open'\u001b[0m\u001b[0;34m:\u001b[0m\u001b[0;34m'mean'\u001b[0m\u001b[0;34m,\u001b[0m\u001b[0;34m'High'\u001b[0m\u001b[0;34m:\u001b[0m\u001b[0;34m'mean'\u001b[0m\u001b[0;34m,\u001b[0m\u001b[0;34m'Low'\u001b[0m\u001b[0;34m:\u001b[0m\u001b[0;34m'mean'\u001b[0m\u001b[0;34m,\u001b[0m\u001b[0;34m'Close'\u001b[0m\u001b[0;34m:\u001b[0m\u001b[0;34m'mean'\u001b[0m\u001b[0;34m}\u001b[0m\u001b[0;34m)\u001b[0m\u001b[0;34m\u001b[0m\u001b[0;34m\u001b[0m\u001b[0m\n\u001b[0m",
      "\u001b[0;32m~/opt/anaconda3/lib/python3.8/site-packages/pandas/core/frame.py\u001b[0m in \u001b[0;36mgroupby\u001b[0;34m(self, by, axis, level, as_index, sort, group_keys, observed, dropna)\u001b[0m\n\u001b[1;32m   8250\u001b[0m         \u001b[0maxis\u001b[0m \u001b[0;34m=\u001b[0m \u001b[0mself\u001b[0m\u001b[0;34m.\u001b[0m\u001b[0m_get_axis_number\u001b[0m\u001b[0;34m(\u001b[0m\u001b[0maxis\u001b[0m\u001b[0;34m)\u001b[0m\u001b[0;34m\u001b[0m\u001b[0;34m\u001b[0m\u001b[0m\n\u001b[1;32m   8251\u001b[0m \u001b[0;34m\u001b[0m\u001b[0m\n\u001b[0;32m-> 8252\u001b[0;31m         return DataFrameGroupBy(\n\u001b[0m\u001b[1;32m   8253\u001b[0m             \u001b[0mobj\u001b[0m\u001b[0;34m=\u001b[0m\u001b[0mself\u001b[0m\u001b[0;34m,\u001b[0m\u001b[0;34m\u001b[0m\u001b[0;34m\u001b[0m\u001b[0m\n\u001b[1;32m   8254\u001b[0m             \u001b[0mkeys\u001b[0m\u001b[0;34m=\u001b[0m\u001b[0mby\u001b[0m\u001b[0;34m,\u001b[0m\u001b[0;34m\u001b[0m\u001b[0;34m\u001b[0m\u001b[0m\n",
      "\u001b[0;32m~/opt/anaconda3/lib/python3.8/site-packages/pandas/core/groupby/groupby.py\u001b[0m in \u001b[0;36m__init__\u001b[0;34m(self, obj, keys, axis, level, grouper, exclusions, selection, as_index, sort, group_keys, observed, dropna)\u001b[0m\n\u001b[1;32m    929\u001b[0m \u001b[0;34m\u001b[0m\u001b[0m\n\u001b[1;32m    930\u001b[0m         \u001b[0;32mif\u001b[0m \u001b[0mgrouper\u001b[0m \u001b[0;32mis\u001b[0m \u001b[0;32mNone\u001b[0m\u001b[0;34m:\u001b[0m\u001b[0;34m\u001b[0m\u001b[0;34m\u001b[0m\u001b[0m\n\u001b[0;32m--> 931\u001b[0;31m             grouper, exclusions, obj = get_grouper(\n\u001b[0m\u001b[1;32m    932\u001b[0m                 \u001b[0mobj\u001b[0m\u001b[0;34m,\u001b[0m\u001b[0;34m\u001b[0m\u001b[0;34m\u001b[0m\u001b[0m\n\u001b[1;32m    933\u001b[0m                 \u001b[0mkeys\u001b[0m\u001b[0;34m,\u001b[0m\u001b[0;34m\u001b[0m\u001b[0;34m\u001b[0m\u001b[0m\n",
      "\u001b[0;32m~/opt/anaconda3/lib/python3.8/site-packages/pandas/core/groupby/grouper.py\u001b[0m in \u001b[0;36mget_grouper\u001b[0;34m(obj, key, axis, level, sort, observed, validate, dropna)\u001b[0m\n\u001b[1;32m    983\u001b[0m                 \u001b[0min_axis\u001b[0m\u001b[0;34m,\u001b[0m \u001b[0mlevel\u001b[0m\u001b[0;34m,\u001b[0m \u001b[0mgpr\u001b[0m \u001b[0;34m=\u001b[0m \u001b[0;32mFalse\u001b[0m\u001b[0;34m,\u001b[0m \u001b[0mgpr\u001b[0m\u001b[0;34m,\u001b[0m \u001b[0;32mNone\u001b[0m\u001b[0;34m\u001b[0m\u001b[0;34m\u001b[0m\u001b[0m\n\u001b[1;32m    984\u001b[0m             \u001b[0;32melse\u001b[0m\u001b[0;34m:\u001b[0m\u001b[0;34m\u001b[0m\u001b[0;34m\u001b[0m\u001b[0m\n\u001b[0;32m--> 985\u001b[0;31m                 \u001b[0;32mraise\u001b[0m \u001b[0mKeyError\u001b[0m\u001b[0;34m(\u001b[0m\u001b[0mgpr\u001b[0m\u001b[0;34m)\u001b[0m\u001b[0;34m\u001b[0m\u001b[0;34m\u001b[0m\u001b[0m\n\u001b[0m\u001b[1;32m    986\u001b[0m         \u001b[0;32melif\u001b[0m \u001b[0misinstance\u001b[0m\u001b[0;34m(\u001b[0m\u001b[0mgpr\u001b[0m\u001b[0;34m,\u001b[0m \u001b[0mGrouper\u001b[0m\u001b[0;34m)\u001b[0m \u001b[0;32mand\u001b[0m \u001b[0mgpr\u001b[0m\u001b[0;34m.\u001b[0m\u001b[0mkey\u001b[0m \u001b[0;32mis\u001b[0m \u001b[0;32mnot\u001b[0m \u001b[0;32mNone\u001b[0m\u001b[0;34m:\u001b[0m\u001b[0;34m\u001b[0m\u001b[0;34m\u001b[0m\u001b[0m\n\u001b[1;32m    987\u001b[0m             \u001b[0;31m# Add key to exclusions\u001b[0m\u001b[0;34m\u001b[0m\u001b[0;34m\u001b[0m\u001b[0;34m\u001b[0m\u001b[0m\n",
      "\u001b[0;31mKeyError\u001b[0m: 'Type'"
     ]
    }
   ],
   "source": [
    "av_oilb= oilb.groupby('Type').agg({'Open':'mean','High':'mean','Low':'mean','Close':'mean'})"
   ]
  },
  {
   "cell_type": "markdown",
   "id": "3db2da23",
   "metadata": {},
   "source": [
    "2.Retrieve standard deviation industries before the event"
   ]
  },
  {
   "cell_type": "code",
   "execution_count": 25,
   "id": "88c8e0f8",
   "metadata": {},
   "outputs": [
    {
     "ename": "KeyError",
     "evalue": "'Type'",
     "output_type": "error",
     "traceback": [
      "\u001b[0;31m---------------------------------------------------------------------------\u001b[0m",
      "\u001b[0;31mKeyError\u001b[0m                                  Traceback (most recent call last)",
      "\u001b[0;32m<ipython-input-25-3726b77a6eb7>\u001b[0m in \u001b[0;36m<module>\u001b[0;34m\u001b[0m\n\u001b[0;32m----> 1\u001b[0;31m \u001b[0msd_oilb\u001b[0m\u001b[0;34m=\u001b[0m\u001b[0moilb\u001b[0m\u001b[0;34m.\u001b[0m\u001b[0mgroupby\u001b[0m\u001b[0;34m(\u001b[0m\u001b[0;34m'Type'\u001b[0m\u001b[0;34m)\u001b[0m\u001b[0;34m.\u001b[0m\u001b[0magg\u001b[0m\u001b[0;34m(\u001b[0m\u001b[0;34m{\u001b[0m\u001b[0;34m'Open'\u001b[0m\u001b[0;34m:\u001b[0m\u001b[0;34m'std'\u001b[0m\u001b[0;34m,\u001b[0m\u001b[0;34m'High'\u001b[0m\u001b[0;34m:\u001b[0m\u001b[0;34m'std'\u001b[0m\u001b[0;34m,\u001b[0m\u001b[0;34m'Low'\u001b[0m\u001b[0;34m:\u001b[0m\u001b[0;34m'std'\u001b[0m\u001b[0;34m,\u001b[0m\u001b[0;34m'Close'\u001b[0m\u001b[0;34m:\u001b[0m\u001b[0;34m'std'\u001b[0m\u001b[0;34m}\u001b[0m\u001b[0;34m)\u001b[0m\u001b[0;34m\u001b[0m\u001b[0;34m\u001b[0m\u001b[0m\n\u001b[0m",
      "\u001b[0;32m~/opt/anaconda3/lib/python3.8/site-packages/pandas/core/frame.py\u001b[0m in \u001b[0;36mgroupby\u001b[0;34m(self, by, axis, level, as_index, sort, group_keys, observed, dropna)\u001b[0m\n\u001b[1;32m   8250\u001b[0m         \u001b[0maxis\u001b[0m \u001b[0;34m=\u001b[0m \u001b[0mself\u001b[0m\u001b[0;34m.\u001b[0m\u001b[0m_get_axis_number\u001b[0m\u001b[0;34m(\u001b[0m\u001b[0maxis\u001b[0m\u001b[0;34m)\u001b[0m\u001b[0;34m\u001b[0m\u001b[0;34m\u001b[0m\u001b[0m\n\u001b[1;32m   8251\u001b[0m \u001b[0;34m\u001b[0m\u001b[0m\n\u001b[0;32m-> 8252\u001b[0;31m         return DataFrameGroupBy(\n\u001b[0m\u001b[1;32m   8253\u001b[0m             \u001b[0mobj\u001b[0m\u001b[0;34m=\u001b[0m\u001b[0mself\u001b[0m\u001b[0;34m,\u001b[0m\u001b[0;34m\u001b[0m\u001b[0;34m\u001b[0m\u001b[0m\n\u001b[1;32m   8254\u001b[0m             \u001b[0mkeys\u001b[0m\u001b[0;34m=\u001b[0m\u001b[0mby\u001b[0m\u001b[0;34m,\u001b[0m\u001b[0;34m\u001b[0m\u001b[0;34m\u001b[0m\u001b[0m\n",
      "\u001b[0;32m~/opt/anaconda3/lib/python3.8/site-packages/pandas/core/groupby/groupby.py\u001b[0m in \u001b[0;36m__init__\u001b[0;34m(self, obj, keys, axis, level, grouper, exclusions, selection, as_index, sort, group_keys, observed, dropna)\u001b[0m\n\u001b[1;32m    929\u001b[0m \u001b[0;34m\u001b[0m\u001b[0m\n\u001b[1;32m    930\u001b[0m         \u001b[0;32mif\u001b[0m \u001b[0mgrouper\u001b[0m \u001b[0;32mis\u001b[0m \u001b[0;32mNone\u001b[0m\u001b[0;34m:\u001b[0m\u001b[0;34m\u001b[0m\u001b[0;34m\u001b[0m\u001b[0m\n\u001b[0;32m--> 931\u001b[0;31m             grouper, exclusions, obj = get_grouper(\n\u001b[0m\u001b[1;32m    932\u001b[0m                 \u001b[0mobj\u001b[0m\u001b[0;34m,\u001b[0m\u001b[0;34m\u001b[0m\u001b[0;34m\u001b[0m\u001b[0m\n\u001b[1;32m    933\u001b[0m                 \u001b[0mkeys\u001b[0m\u001b[0;34m,\u001b[0m\u001b[0;34m\u001b[0m\u001b[0;34m\u001b[0m\u001b[0m\n",
      "\u001b[0;32m~/opt/anaconda3/lib/python3.8/site-packages/pandas/core/groupby/grouper.py\u001b[0m in \u001b[0;36mget_grouper\u001b[0;34m(obj, key, axis, level, sort, observed, validate, dropna)\u001b[0m\n\u001b[1;32m    983\u001b[0m                 \u001b[0min_axis\u001b[0m\u001b[0;34m,\u001b[0m \u001b[0mlevel\u001b[0m\u001b[0;34m,\u001b[0m \u001b[0mgpr\u001b[0m \u001b[0;34m=\u001b[0m \u001b[0;32mFalse\u001b[0m\u001b[0;34m,\u001b[0m \u001b[0mgpr\u001b[0m\u001b[0;34m,\u001b[0m \u001b[0;32mNone\u001b[0m\u001b[0;34m\u001b[0m\u001b[0;34m\u001b[0m\u001b[0m\n\u001b[1;32m    984\u001b[0m             \u001b[0;32melse\u001b[0m\u001b[0;34m:\u001b[0m\u001b[0;34m\u001b[0m\u001b[0;34m\u001b[0m\u001b[0m\n\u001b[0;32m--> 985\u001b[0;31m                 \u001b[0;32mraise\u001b[0m \u001b[0mKeyError\u001b[0m\u001b[0;34m(\u001b[0m\u001b[0mgpr\u001b[0m\u001b[0;34m)\u001b[0m\u001b[0;34m\u001b[0m\u001b[0;34m\u001b[0m\u001b[0m\n\u001b[0m\u001b[1;32m    986\u001b[0m         \u001b[0;32melif\u001b[0m \u001b[0misinstance\u001b[0m\u001b[0;34m(\u001b[0m\u001b[0mgpr\u001b[0m\u001b[0;34m,\u001b[0m \u001b[0mGrouper\u001b[0m\u001b[0;34m)\u001b[0m \u001b[0;32mand\u001b[0m \u001b[0mgpr\u001b[0m\u001b[0;34m.\u001b[0m\u001b[0mkey\u001b[0m \u001b[0;32mis\u001b[0m \u001b[0;32mnot\u001b[0m \u001b[0;32mNone\u001b[0m\u001b[0;34m:\u001b[0m\u001b[0;34m\u001b[0m\u001b[0;34m\u001b[0m\u001b[0m\n\u001b[1;32m    987\u001b[0m             \u001b[0;31m# Add key to exclusions\u001b[0m\u001b[0;34m\u001b[0m\u001b[0;34m\u001b[0m\u001b[0;34m\u001b[0m\u001b[0m\n",
      "\u001b[0;31mKeyError\u001b[0m: 'Type'"
     ]
    }
   ],
   "source": [
    "sd_oilb=oilb.groupby('Type').agg({'Open':'std','High':'std','Low':'std','Close':'std'})"
   ]
  },
  {
   "cell_type": "code",
   "execution_count": 26,
   "id": "1f8640b7",
   "metadata": {},
   "outputs": [
    {
     "ename": "NameError",
     "evalue": "name 'av_oilb' is not defined",
     "output_type": "error",
     "traceback": [
      "\u001b[0;31m---------------------------------------------------------------------------\u001b[0m",
      "\u001b[0;31mNameError\u001b[0m                                 Traceback (most recent call last)",
      "\u001b[0;32m<ipython-input-26-04d8c3a0c1a1>\u001b[0m in \u001b[0;36m<module>\u001b[0;34m\u001b[0m\n\u001b[0;32m----> 1\u001b[0;31m \u001b[0mav_oilb\u001b[0m\u001b[0;34m=\u001b[0m\u001b[0mav_oilb\u001b[0m\u001b[0;34m.\u001b[0m\u001b[0mreset_index\u001b[0m\u001b[0;34m(\u001b[0m\u001b[0;34m)\u001b[0m\u001b[0;34m\u001b[0m\u001b[0;34m\u001b[0m\u001b[0m\n\u001b[0m\u001b[1;32m      2\u001b[0m \u001b[0mav_oilb\u001b[0m\u001b[0;34m\u001b[0m\u001b[0;34m\u001b[0m\u001b[0m\n",
      "\u001b[0;31mNameError\u001b[0m: name 'av_oilb' is not defined"
     ]
    }
   ],
   "source": [
    "av_oilb=av_oilb.reset_index()\n",
    "av_oilb"
   ]
  },
  {
   "cell_type": "code",
   "execution_count": null,
   "id": "deded812",
   "metadata": {},
   "outputs": [],
   "source": [
    "sd_oilb=sd_oilb.reset_index()\n",
    "sd_oilb"
   ]
  },
  {
   "cell_type": "code",
   "execution_count": null,
   "id": "78ec42b8",
   "metadata": {},
   "outputs": [],
   "source": []
  },
  {
   "cell_type": "markdown",
   "id": "c9a4712a",
   "metadata": {},
   "source": [
    "- candlestick graph doesnt really tell us much, the dates are not relevant at all in this situation."
   ]
  },
  {
   "cell_type": "code",
   "execution_count": null,
   "id": "3b3ad570",
   "metadata": {},
   "outputs": [],
   "source": [
    "import mplfinance as mpf\n",
    "\n",
    "mpf.plot(oilb,type='candle',style='charles')"
   ]
  },
  {
   "cell_type": "markdown",
   "id": "4c5132da",
   "metadata": {},
   "source": [
    "- compares the av_close and open price for oil industry as a whole before events with the average based off of groups"
   ]
  },
  {
   "cell_type": "code",
   "execution_count": null,
   "id": "5b484626",
   "metadata": {},
   "outputs": [],
   "source": [
    "\n",
    "# Create a new DataFrame with 'Type', 'Open', and 'Close' columns\n",
    "type_open_close_df = oilb[['Type', 'Open', 'Close']]\n",
    "\n",
    "# Melt the DataFrame to a long format for plotting\n",
    "melted_df = type_open_close_df.melt(id_vars='Type', value_vars=['Open', 'Close'], var_name='Price Type', value_name='Price')\n",
    "\n",
    "# Set the style of seaborn\n",
    "sns.set(style=\"whitegrid\")\n",
    "\n",
    "# Define colors to match the bar plot colors\n",
    "colors = ['blue', 'red']\n",
    "\n",
    "# Create the bar plot\n",
    "plt.figure(figsize=(10, 6))\n",
    "sns.barplot(x='Type', y='Price', hue='Price Type', data=melted_df)\n",
    "\n",
    "# Create the line plot with matching colors\n",
    "sns.lineplot(x='Type', y='Price', hue='Price Type', data=melted_df, palette=colors)\n",
    "\n",
    "plt.title('Comparison of Opening and Closing Prices by Type')\n",
    "plt.xlabel('Type')\n",
    "plt.ylabel('Price')\n",
    "plt.legend()\n",
    "plt.xticks(rotation=45)\n",
    "\n",
    "plt.tight_layout()\n",
    "plt.show()\n"
   ]
  },
  {
   "cell_type": "markdown",
   "id": "2c5d6ca6",
   "metadata": {},
   "source": [
    "Looks like the average doesnt fall too far out of line with groups."
   ]
  },
  {
   "cell_type": "code",
   "execution_count": null,
   "id": "21f08a80",
   "metadata": {},
   "outputs": [],
   "source": [
    "\n",
    "\n",
    "# Create a new DataFrame with 'Type', 'Open', and 'Close' columns\n",
    "type_open_close_df = oilb[['Type', 'Open', 'Close']]\n",
    "\n",
    "# Melt the DataFrame to a long format for plotting\n",
    "melted_df = type_open_close_df.melt(id_vars='Type', value_vars=['Open', 'Close'], var_name='Price Type', value_name='Price')\n",
    "\n",
    "# Set the style of seaborn\n",
    "sns.set(style=\"whitegrid\")\n",
    "\n",
    "# Create the bar plot\n",
    "plt.figure(figsize=(10, 6))\n",
    "sns.barplot(x='Type', y='Price', hue='Price Type', data=melted_df)\n",
    "\n",
    "plt.title('Comparison of Opening and Closing Prices by Type')\n",
    "plt.xlabel('Type')\n",
    "plt.ylabel('Price')\n",
    "plt.legend()\n",
    "plt.xticks(rotation=45)\n",
    "\n",
    "plt.tight_layout()\n",
    "plt.show()\n",
    "\n"
   ]
  },
  {
   "cell_type": "markdown",
   "id": "72a717ed",
   "metadata": {},
   "source": [
    "- Finding the diff in average price change for opening and closing prices before event."
   ]
  },
  {
   "cell_type": "code",
   "execution_count": null,
   "id": "72ac42d8",
   "metadata": {},
   "outputs": [],
   "source": [
    "\n",
    "oilb['Price Change'] = oilb['Close'] - oilb['Open']\n",
    "\n",
    "\n",
    "average_changes = oilb.groupby('Type')['Price Change'].mean()\n",
    "\n",
    "average_changes"
   ]
  },
  {
   "cell_type": "code",
   "execution_count": null,
   "id": "01c7110f",
   "metadata": {},
   "outputs": [],
   "source": [
    "import pandas as pd\n",
    "import seaborn as sns\n",
    "import matplotlib.pyplot as plt\n",
    "\n",
    "# Assuming you have a DataFrame named oilb with calculated 'Price Change' column\n",
    "\n",
    "# Group by 'Type' and calculate the average of price changes\n",
    "average_changes = oilb.groupby('Type')['Price Change'].mean().reset_index()\n",
    "\n",
    "# Set the style of seaborn\n",
    "sns.set(style=\"whitegrid\")\n",
    "sns.set_palette(color_palette)\n",
    "# Create the bar plot\n",
    "plt.figure(figsize=(10, 6))\n",
    "ax = sns.barplot(x='Type', y='Price Change', data=average_changes)\n",
    "\n",
    "plt.title('Average Change in Opening and Closing Prices by Type')\n",
    "plt.xlabel('Type')\n",
    "plt.ylabel('Average Price Change')\n",
    "plt.xticks(rotation=45)\n",
    "\n",
    "# Invert the y-axis\n",
    "ax.invert_yaxis()\n",
    "\n",
    "plt.tight_layout()\n",
    "plt.show()\n"
   ]
  },
  {
   "cell_type": "markdown",
   "id": "98dfec55",
   "metadata": {},
   "source": [
    "-calculate percent change between close and opening price"
   ]
  },
  {
   "cell_type": "code",
   "execution_count": null,
   "id": "d50d6cbd",
   "metadata": {},
   "outputs": [],
   "source": [
    "\n",
    "oilb['Percent Change'] = ((oilb['Close'] - oilb['Open']) / oilb['Open']) * 100\n"
   ]
  },
  {
   "cell_type": "code",
   "execution_count": null,
   "id": "6cd566e0",
   "metadata": {},
   "outputs": [],
   "source": [
    "\n",
    "\n",
    "\n",
    "\n",
    "# Group by 'Type' and calculate the average of percent changes\n",
    "average_percent_changes = oilb.groupby('Type')['Percent Change'].mean().reset_index()\n",
    "\n",
    "average_percent_changes\n"
   ]
  },
  {
   "cell_type": "code",
   "execution_count": null,
   "id": "0028b9d0",
   "metadata": {},
   "outputs": [],
   "source": [
    "import pandas as pd\n",
    "import seaborn as sns\n",
    "import matplotlib.pyplot as plt\n",
    "\n",
    "# Assuming you have a DataFrame named oilb with calculated 'Percent Change' column\n",
    "\n",
    "# Group by 'Type' and calculate the average of percent changes\n",
    "average_percent_changes = oilb.groupby('Type')['Percent Change'].mean().reset_index()\n",
    "\n",
    "# Set the style of seaborn\n",
    "sns.set(style=\"whitegrid\")\n",
    "sns.set_palette(color_palette)\n",
    "# Create the bar plot\n",
    "plt.figure(figsize=(10, 6))\n",
    "ax = sns.barplot(x='Type', y='Percent Change', data=average_percent_changes)\n",
    "\n",
    "plt.title('Average Percent Change in Opening and Closing Prices by Type')\n",
    "plt.xlabel('Type')\n",
    "plt.ylabel('Average Percent Change (%)')\n",
    "plt.xticks(rotation=45)\n",
    "\n",
    "# Invert the y-axis\n",
    "ax.invert_yaxis()\n",
    "\n",
    "\n",
    "plt.tight_layout()\n",
    "plt.show()\n"
   ]
  },
  {
   "cell_type": "markdown",
   "id": "929d06b8",
   "metadata": {},
   "source": [
    "* we can see that our events that occur 5-7 days before event have the drop over 3% "
   ]
  },
  {
   "cell_type": "code",
   "execution_count": null,
   "id": "0d650916",
   "metadata": {},
   "outputs": [],
   "source": [
    "import seaborn as sns\n",
    "import matplotlib.pyplot as plt\n",
    "\n",
    "# Assuming you have a DataFrame named sd_oilb with calculated standard deviations\n",
    "\n",
    "# Define the colors to match the previous graphs\n",
    "colors = ['blue', 'red']\n",
    "\n",
    "# Set the style of seaborn\n",
    "sns.set(style=\"whitegrid\")\n",
    "\n",
    "# Create the bar plot\n",
    "plt.figure(figsize=(10, 6))\n",
    "sns.barplot(x='Type', y='Open', data=sd_oilb, color=colors[0], label='Open Price SD')\n",
    "sns.barplot(x='Type', y='Close', data=sd_oilb, color=colors[1], label='Close Price SD')\n",
    "\n",
    "plt.title('Standard Deviations of Open and Close Prices by Type')\n",
    "plt.xlabel('Type')\n",
    "plt.ylabel('Standard Deviation')\n",
    "plt.xticks(rotation=45)\n",
    "\n",
    "plt.legend()\n",
    "plt.tight_layout()\n",
    "plt.show()\n"
   ]
  },
  {
   "cell_type": "markdown",
   "id": "44d338a6",
   "metadata": {},
   "source": [
    "- above graph is showing sd of opening and closing prices. As we can see there is not votatlity between our prices."
   ]
  },
  {
   "cell_type": "markdown",
   "id": "6cde917f",
   "metadata": {},
   "source": [
    "### events after the event oil industry"
   ]
  },
  {
   "cell_type": "code",
   "execution_count": null,
   "id": "d2a37f52",
   "metadata": {},
   "outputs": [],
   "source": [
    "rolling_window_size = '7D'\n",
    "\n",
    "oila = pd.DataFrame()\n",
    "\n",
    "# Iterate through each historical event\n",
    "for index, event_row in events.iterrows():\n",
    "    event_date = event_row['Event_date']\n",
    "    \n",
    "    # Calculate the date range for 7 days after the event\n",
    "    date_range_end = event_date + pd.Timedelta(days=7)\n",
    "    \n",
    "    # Filter oil DataFrame for the specified date range\n",
    "    filtered_data = oil[(oil['Date'] > event_date) & (oil['Date'] <= date_range_end)]\n",
    "    \n",
    "    # Add the 'Event_date' and 'Type' columns from events DataFrame to each row\n",
    "    filtered_data['Event_date'] = event_date\n",
    "    filtered_data['Type'] = event_row['Type']\n",
    "    \n",
    "    # Append the filtered data to the oilb DataFrame\n",
    "    oila = pd.concat([oila, filtered_data])\n",
    "\n",
    "# Reset index of the resulting DataFrame\n",
    "oila = oila.reset_index(drop=True)\n",
    "\n"
   ]
  },
  {
   "cell_type": "code",
   "execution_count": null,
   "id": "396d7ee2",
   "metadata": {},
   "outputs": [],
   "source": [
    "oila.columns"
   ]
  },
  {
   "cell_type": "code",
   "execution_count": null,
   "id": "45d99c1e",
   "metadata": {},
   "outputs": [],
   "source": [
    "av_oila= oila.groupby('Type').agg({'Open':'mean','High':'mean','Low':'mean','Close':'mean'})"
   ]
  },
  {
   "cell_type": "code",
   "execution_count": null,
   "id": "b09e862a",
   "metadata": {},
   "outputs": [],
   "source": [
    "sd_oila=oila.groupby('Type').agg({'Open':'std','High':'std','Low':'std','Close':'std'})"
   ]
  },
  {
   "cell_type": "code",
   "execution_count": null,
   "id": "d2d3f8f8",
   "metadata": {},
   "outputs": [],
   "source": [
    "av_oila=av_oila.reset_index()"
   ]
  },
  {
   "cell_type": "code",
   "execution_count": null,
   "id": "28b6a573",
   "metadata": {},
   "outputs": [],
   "source": [
    "av_oila"
   ]
  },
  {
   "cell_type": "code",
   "execution_count": null,
   "id": "a37eda32",
   "metadata": {},
   "outputs": [],
   "source": [
    "sd_oila=sd_oila.reset_index()\n",
    "sd_oila"
   ]
  },
  {
   "cell_type": "code",
   "execution_count": null,
   "id": "b3e969be",
   "metadata": {},
   "outputs": [],
   "source": [
    "# Create a new DataFrame with 'Type', 'Open', and 'Close' columns\n",
    "type_open_close_dfa= oila[['Type', 'Open', 'Close']]\n",
    "\n",
    "# Melt the DataFrame to a long format for plotting\n",
    "melted_dfa = type_open_close_dfa.melt(id_vars='Type', value_vars=['Open', 'Close'], var_name='Price Type', value_name='Price')\n",
    "\n",
    "# Set the style of seaborn\n",
    "sns.set(style=\"whitegrid\")\n",
    "\n",
    "# Define colors to match the bar plot colors\n",
    "colors = ['blue', 'red']\n",
    "\n",
    "# Create the bar plot\n",
    "plt.figure(figsize=(10, 6))\n",
    "sns.barplot(x='Type', y='Price', hue='Price Type', data=melted_dfa)\n",
    "\n",
    "# Create the line plot with matching colors\n",
    "sns.lineplot(x='Type', y='Price', hue='Price Type', data=melted_dfa, palette=colors)\n",
    "\n",
    "plt.title('Comparison of Opening and Closing Prices by Type')\n",
    "plt.xlabel('Type')\n",
    "plt.ylabel('Price')\n",
    "plt.legend()\n",
    "plt.xticks(rotation=45)\n",
    "\n",
    "plt.tight_layout()\n",
    "plt.show()"
   ]
  },
  {
   "cell_type": "code",
   "execution_count": null,
   "id": "eca8ef17",
   "metadata": {},
   "outputs": [],
   "source": [
    "# Create a new DataFrame with 'Type', 'Open', and 'Close' columns\n",
    "type_open_close_df = oila[['Type', 'Open', 'Close']]\n",
    "\n",
    "# Melt the DataFrame to a long format for plotting\n",
    "melted_df = type_open_close_df.melt(id_vars='Type', value_vars=['Open', 'Close'], var_name='Price Type', value_name='Price')\n",
    "\n",
    "# Set the style of seaborn\n",
    "sns.set(style=\"whitegrid\")\n",
    "\n",
    "# Create the bar plot\n",
    "plt.figure(figsize=(10, 6))\n",
    "sns.barplot(x='Type', y='Price', hue='Price Type', data=melted_df)\n",
    "\n",
    "plt.title('Comparison of Opening and Closing Prices by Type')\n",
    "plt.xlabel('Type')\n",
    "plt.ylabel('Price')\n",
    "plt.legend()\n",
    "plt.xticks(rotation=45)\n",
    "\n",
    "plt.tight_layout()\n",
    "plt.show()\n",
    "\n"
   ]
  },
  {
   "cell_type": "markdown",
   "id": "a0f5a36a",
   "metadata": {},
   "source": [
    "-calculate percent change for after oil and difference in price"
   ]
  },
  {
   "cell_type": "code",
   "execution_count": null,
   "id": "3731941e",
   "metadata": {},
   "outputs": [],
   "source": [
    "oila['Price Change'] = oila['Close'] - oila['Open']"
   ]
  },
  {
   "cell_type": "code",
   "execution_count": null,
   "id": "1faa22d0",
   "metadata": {},
   "outputs": [],
   "source": [
    "oila['Percent Change'] = ((oila['Close'] - oila['Open']) / oila['Open']) * 100\n"
   ]
  },
  {
   "cell_type": "code",
   "execution_count": null,
   "id": "f3b6f43f",
   "metadata": {},
   "outputs": [],
   "source": [
    "# Group by 'Type' and calculate the average of percent changes\n",
    "average_percent_changesa = oila.groupby('Type')['Percent Change'].mean().reset_index()\n",
    "aver\n",
    "average_percent_changesa\n"
   ]
  },
  {
   "cell_type": "code",
   "execution_count": null,
   "id": "d7578302",
   "metadata": {},
   "outputs": [],
   "source": []
  },
  {
   "cell_type": "code",
   "execution_count": null,
   "id": "aded753d",
   "metadata": {},
   "outputs": [],
   "source": [
    "oila"
   ]
  },
  {
   "cell_type": "code",
   "execution_count": null,
   "id": "15873736",
   "metadata": {},
   "outputs": [],
   "source": []
  },
  {
   "cell_type": "code",
   "execution_count": null,
   "id": "ec8781a2",
   "metadata": {},
   "outputs": [],
   "source": []
  },
  {
   "cell_type": "code",
   "execution_count": null,
   "id": "f0574818",
   "metadata": {},
   "outputs": [],
   "source": []
  },
  {
   "cell_type": "code",
   "execution_count": null,
   "id": "942d7c37",
   "metadata": {},
   "outputs": [],
   "source": []
  },
  {
   "cell_type": "code",
   "execution_count": null,
   "id": "a3f5accf",
   "metadata": {},
   "outputs": [],
   "source": []
  },
  {
   "cell_type": "code",
   "execution_count": null,
   "id": "fcc21096",
   "metadata": {},
   "outputs": [],
   "source": []
  },
  {
   "cell_type": "markdown",
   "id": "75f5cfa7",
   "metadata": {},
   "source": [
    "#### effect size "
   ]
  },
  {
   "cell_type": "code",
   "execution_count": null,
   "id": "3c5d1ef3",
   "metadata": {},
   "outputs": [],
   "source": []
  },
  {
   "cell_type": "code",
   "execution_count": null,
   "id": "e4bf742d",
   "metadata": {},
   "outputs": [],
   "source": [
    "oila"
   ]
  },
  {
   "cell_type": "code",
   "execution_count": null,
   "id": "a8b3b857",
   "metadata": {},
   "outputs": [],
   "source": [
    "oilb"
   ]
  },
  {
   "cell_type": "code",
   "execution_count": null,
   "id": "f80b183f",
   "metadata": {},
   "outputs": [],
   "source": []
  },
  {
   "cell_type": "code",
   "execution_count": null,
   "id": "8d051ef8",
   "metadata": {},
   "outputs": [],
   "source": [
    "columns_to_use='Open'\n",
    "mean_diff_oil=oila[columns_to_use].mean()-oilb[columns_to_use].mean()"
   ]
  },
  {
   "cell_type": "code",
   "execution_count": null,
   "id": "dcf63763",
   "metadata": {},
   "outputs": [],
   "source": [
    "mean_diff_oil"
   ]
  },
  {
   "cell_type": "code",
   "execution_count": null,
   "id": "552de09d",
   "metadata": {},
   "outputs": [],
   "source": [
    "pooled_sd= np.sqrt((oilb[columns_to_use]**2+oila[columns_to_use]**2)/2)"
   ]
  },
  {
   "cell_type": "code",
   "execution_count": null,
   "id": "4f0c5fe4",
   "metadata": {},
   "outputs": [],
   "source": [
    "oila.shape"
   ]
  },
  {
   "cell_type": "code",
   "execution_count": null,
   "id": "3023a065",
   "metadata": {},
   "outputs": [],
   "source": [
    "oilb.shape"
   ]
  },
  {
   "cell_type": "code",
   "execution_count": null,
   "id": "c6953352",
   "metadata": {},
   "outputs": [],
   "source": [
    "oilb=oilb.drop(columns='Year')\n"
   ]
  },
  {
   "cell_type": "code",
   "execution_count": null,
   "id": "8f255b19",
   "metadata": {},
   "outputs": [],
   "source": [
    "oila"
   ]
  },
  {
   "cell_type": "code",
   "execution_count": null,
   "id": "2b0e1949",
   "metadata": {},
   "outputs": [],
   "source": [
    "oilb"
   ]
  },
  {
   "cell_type": "code",
   "execution_count": 3,
   "id": "2223254d",
   "metadata": {},
   "outputs": [
    {
     "ename": "NameError",
     "evalue": "name 'events' is not defined",
     "output_type": "error",
     "traceback": [
      "\u001b[0;31m---------------------------------------------------------------------------\u001b[0m",
      "\u001b[0;31mNameError\u001b[0m                                 Traceback (most recent call last)",
      "\u001b[0;32m<ipython-input-3-7406c00b54a8>\u001b[0m in \u001b[0;36m<module>\u001b[0;34m\u001b[0m\n\u001b[0;32m----> 1\u001b[0;31m \u001b[0mevents\u001b[0m\u001b[0;34m.\u001b[0m\u001b[0mType\u001b[0m\u001b[0;34m\u001b[0m\u001b[0;34m\u001b[0m\u001b[0m\n\u001b[0m",
      "\u001b[0;31mNameError\u001b[0m: name 'events' is not defined"
     ]
    }
   ],
   "source": [
    "events.Type\n"
   ]
  },
  {
   "cell_type": "code",
   "execution_count": null,
   "id": "2761f07a",
   "metadata": {},
   "outputs": [],
   "source": []
  },
  {
   "cell_type": "code",
   "execution_count": null,
   "id": "29bde2ac",
   "metadata": {},
   "outputs": [],
   "source": []
  },
  {
   "cell_type": "code",
   "execution_count": null,
   "id": "455186a7",
   "metadata": {},
   "outputs": [],
   "source": []
  },
  {
   "cell_type": "code",
   "execution_count": null,
   "id": "e73e83a4",
   "metadata": {},
   "outputs": [],
   "source": []
  },
  {
   "cell_type": "code",
   "execution_count": null,
   "id": "bc7137ab",
   "metadata": {},
   "outputs": [],
   "source": []
  },
  {
   "cell_type": "code",
   "execution_count": null,
   "id": "23ed7acd",
   "metadata": {},
   "outputs": [],
   "source": []
  },
  {
   "cell_type": "code",
   "execution_count": null,
   "id": "00ce6050",
   "metadata": {},
   "outputs": [],
   "source": []
  }
 ],
 "metadata": {
  "kernelspec": {
   "display_name": "Python 3",
   "language": "python",
   "name": "python3"
  },
  "language_info": {
   "codemirror_mode": {
    "name": "ipython",
    "version": 3
   },
   "file_extension": ".py",
   "mimetype": "text/x-python",
   "name": "python",
   "nbconvert_exporter": "python",
   "pygments_lexer": "ipython3",
   "version": "3.8.8"
  }
 },
 "nbformat": 4,
 "nbformat_minor": 5
}
