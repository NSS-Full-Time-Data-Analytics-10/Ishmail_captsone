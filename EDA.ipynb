{
 "cells": [
  {
   "cell_type": "code",
   "execution_count": null,
   "id": "91ac744f",
   "metadata": {},
   "outputs": [],
   "source": [
    "pip install mplfinance"
   ]
  },
  {
   "cell_type": "markdown",
   "id": "20efc17d",
   "metadata": {},
   "source": [
    "### Exploratory Data Analysis"
   ]
  },
  {
   "cell_type": "code",
   "execution_count": null,
   "id": "fff88a72",
   "metadata": {},
   "outputs": [],
   "source": [
    "import pandas as pd\n",
    "import numpy as np\n",
    "from datetime import datetime\n",
    "import seaborn as sns\n",
    "import matplotlib.pyplot as plt\n"
   ]
  },
  {
   "cell_type": "markdown",
   "id": "eab4d193",
   "metadata": {},
   "source": [
    "### Read in the files "
   ]
  },
  {
   "cell_type": "code",
   "execution_count": null,
   "id": "fba9113c",
   "metadata": {},
   "outputs": [],
   "source": [
    "oil=pd.read_csv('./data/oil_dfinal.csv')"
   ]
  },
  {
   "cell_type": "code",
   "execution_count": null,
   "id": "d6652059",
   "metadata": {},
   "outputs": [],
   "source": [
    "tech=pd.read_csv('./data/tech_dfinal.csv')"
   ]
  },
  {
   "cell_type": "code",
   "execution_count": null,
   "id": "469fb6c6",
   "metadata": {},
   "outputs": [],
   "source": [
    "events=pd.read_csv('./data/final_events.csv')"
   ]
  },
  {
   "cell_type": "markdown",
   "id": "5d4ea4a4",
   "metadata": {},
   "source": [
    "### Oil cleaning"
   ]
  },
  {
   "cell_type": "code",
   "execution_count": null,
   "id": "9015d11a",
   "metadata": {},
   "outputs": [],
   "source": [
    "oil['Date']=oil.Date.str[:10]"
   ]
  },
  {
   "cell_type": "code",
   "execution_count": null,
   "id": "ea0ffce4",
   "metadata": {},
   "outputs": [],
   "source": [
    "oil[\"Date\"]=pd.to_datetime(oil['Date'])"
   ]
  },
  {
   "cell_type": "code",
   "execution_count": null,
   "id": "c744acae",
   "metadata": {
    "scrolled": true
   },
   "outputs": [],
   "source": [
    "oil.dtypes"
   ]
  },
  {
   "cell_type": "code",
   "execution_count": null,
   "id": "049682c1",
   "metadata": {},
   "outputs": [],
   "source": [
    "oil"
   ]
  },
  {
   "cell_type": "code",
   "execution_count": null,
   "id": "92560879",
   "metadata": {},
   "outputs": [],
   "source": []
  },
  {
   "cell_type": "code",
   "execution_count": null,
   "id": "d96f9fb5",
   "metadata": {},
   "outputs": [],
   "source": [
    "oil.dtypes"
   ]
  },
  {
   "cell_type": "code",
   "execution_count": null,
   "id": "b4d97489",
   "metadata": {},
   "outputs": [],
   "source": [
    "#drop columns not being used\n",
    "to_drop=['Volume','Dividends','Stock Splits']\n",
    "oil=oil.drop(columns=to_drop)"
   ]
  },
  {
   "cell_type": "code",
   "execution_count": null,
   "id": "862a3c5e",
   "metadata": {},
   "outputs": [],
   "source": [
    "grouped_mean=oil.groupby('Ticker')['Open'].mean()"
   ]
  },
  {
   "cell_type": "code",
   "execution_count": null,
   "id": "98814a97",
   "metadata": {},
   "outputs": [],
   "source": [
    "grouped_mean=grouped_mean.to_frame().reset_index()"
   ]
  },
  {
   "cell_type": "code",
   "execution_count": null,
   "id": "35d27f19",
   "metadata": {},
   "outputs": [],
   "source": [
    "grouped_mean"
   ]
  },
  {
   "cell_type": "code",
   "execution_count": null,
   "id": "cd7e10cb",
   "metadata": {},
   "outputs": [],
   "source": [
    "plt.bar('Ticker','Open',data=grouped_mean)\n",
    "plt.title('Mean Open For Oil Companies')\n",
    "plt.xlabel('Ticker')\n",
    "plt.ylabel('Price')\n",
    "plt.show()"
   ]
  },
  {
   "cell_type": "code",
   "execution_count": null,
   "id": "6921afe4",
   "metadata": {},
   "outputs": [],
   "source": [
    "oilb"
   ]
  },
  {
   "cell_type": "code",
   "execution_count": null,
   "id": "92c011a4",
   "metadata": {},
   "outputs": [],
   "source": []
  },
  {
   "cell_type": "code",
   "execution_count": null,
   "id": "ba55ee20",
   "metadata": {},
   "outputs": [],
   "source": []
  },
  {
   "cell_type": "code",
   "execution_count": null,
   "id": "18250e85",
   "metadata": {},
   "outputs": [],
   "source": []
  },
  {
   "cell_type": "code",
   "execution_count": null,
   "id": "2a6e66d4",
   "metadata": {},
   "outputs": [],
   "source": []
  },
  {
   "cell_type": "code",
   "execution_count": null,
   "id": "96785cf7",
   "metadata": {},
   "outputs": [],
   "source": []
  },
  {
   "cell_type": "code",
   "execution_count": null,
   "id": "a6ec817b",
   "metadata": {},
   "outputs": [],
   "source": []
  },
  {
   "cell_type": "code",
   "execution_count": null,
   "id": "d3d50d2c",
   "metadata": {},
   "outputs": [],
   "source": []
  },
  {
   "cell_type": "code",
   "execution_count": null,
   "id": "e07d01f0",
   "metadata": {},
   "outputs": [],
   "source": []
  },
  {
   "cell_type": "code",
   "execution_count": null,
   "id": "ea1689c5",
   "metadata": {},
   "outputs": [],
   "source": []
  },
  {
   "cell_type": "code",
   "execution_count": null,
   "id": "20e2a940",
   "metadata": {},
   "outputs": [],
   "source": []
  },
  {
   "cell_type": "code",
   "execution_count": null,
   "id": "2151af83",
   "metadata": {},
   "outputs": [],
   "source": []
  },
  {
   "cell_type": "code",
   "execution_count": null,
   "id": "664cd40d",
   "metadata": {},
   "outputs": [],
   "source": []
  },
  {
   "cell_type": "code",
   "execution_count": null,
   "id": "1b4fb8ae",
   "metadata": {},
   "outputs": [],
   "source": []
  },
  {
   "cell_type": "markdown",
   "id": "9efcdf5f",
   "metadata": {},
   "source": [
    "### Events cleaning "
   ]
  },
  {
   "cell_type": "code",
   "execution_count": null,
   "id": "4e0d586c",
   "metadata": {},
   "outputs": [],
   "source": [
    "events=events.loc[(events['Year']>2000) & (events[\"Year\"]<=2020)]"
   ]
  },
  {
   "cell_type": "code",
   "execution_count": null,
   "id": "97d55e9c",
   "metadata": {},
   "outputs": [],
   "source": [
    "events['Date']=pd.to_datetime(events['Date'])"
   ]
  },
  {
   "cell_type": "code",
   "execution_count": null,
   "id": "80f28189",
   "metadata": {},
   "outputs": [],
   "source": [
    "events=events[events['Date'].notnull()]"
   ]
  },
  {
   "cell_type": "code",
   "execution_count": null,
   "id": "baf7c236",
   "metadata": {},
   "outputs": [],
   "source": [
    "events['Type']=events['Type'].str.replace('Domestic  Terrorism','Domestic Terrorism')\n"
   ]
  },
  {
   "cell_type": "code",
   "execution_count": null,
   "id": "3445cf33",
   "metadata": {},
   "outputs": [],
   "source": [
    "events['Type']=events['Type'].str.replace('Domestic Terrorism ','Domestic Terrorism')"
   ]
  },
  {
   "cell_type": "code",
   "execution_count": null,
   "id": "c5b59f43",
   "metadata": {},
   "outputs": [],
   "source": [
    "index_to_drop=657"
   ]
  },
  {
   "cell_type": "code",
   "execution_count": null,
   "id": "5257c0c2",
   "metadata": {},
   "outputs": [],
   "source": [
    "events=events.drop(index=index_to_drop)"
   ]
  },
  {
   "cell_type": "code",
   "execution_count": null,
   "id": "1967203f",
   "metadata": {},
   "outputs": [],
   "source": [
    "events.Type=events['Type'].str.replace('Accident ','Accident')"
   ]
  },
  {
   "cell_type": "code",
   "execution_count": null,
   "id": "ce27b956",
   "metadata": {},
   "outputs": [],
   "source": [
    "events=events.rename(columns={'Date':'Event_date'})\n"
   ]
  },
  {
   "cell_type": "code",
   "execution_count": null,
   "id": "4b0acfac",
   "metadata": {},
   "outputs": [],
   "source": [
    "events=events.loc[:,['Fatalities','Year','Article','Type','Location','Event_date']]"
   ]
  },
  {
   "cell_type": "code",
   "execution_count": null,
   "id": "60f84d61",
   "metadata": {},
   "outputs": [],
   "source": [
    "events.Fatalities=events.Fatalities.str.replace('2,996','2996')"
   ]
  },
  {
   "cell_type": "code",
   "execution_count": null,
   "id": "0895cea0",
   "metadata": {},
   "outputs": [],
   "source": [
    "events.Fatalities=events.Fatalities.astype(int)"
   ]
  },
  {
   "cell_type": "code",
   "execution_count": null,
   "id": "a8fcb766",
   "metadata": {},
   "outputs": [],
   "source": [
    "events['month']=events['Event_date'].dt.month"
   ]
  },
  {
   "cell_type": "markdown",
   "id": "c2225870",
   "metadata": {},
   "source": [
    "### cleaned events df"
   ]
  },
  {
   "cell_type": "code",
   "execution_count": null,
   "id": "8cff7207",
   "metadata": {},
   "outputs": [],
   "source": [
    "events.dtypes"
   ]
  },
  {
   "cell_type": "code",
   "execution_count": null,
   "id": "f7c0c9f0",
   "metadata": {
    "scrolled": true
   },
   "outputs": [],
   "source": [
    "\n",
    "events.Type"
   ]
  },
  {
   "cell_type": "code",
   "execution_count": null,
   "id": "05866163",
   "metadata": {},
   "outputs": [],
   "source": [
    "events.Type.loc[events['Type']=='Terrorism']='Int Terrorsim'"
   ]
  },
  {
   "cell_type": "code",
   "execution_count": null,
   "id": "8bbf2eae",
   "metadata": {},
   "outputs": [],
   "source": [
    "events.Type"
   ]
  },
  {
   "cell_type": "markdown",
   "id": "1d32d28a",
   "metadata": {},
   "source": [
    "events.Fatalities=events.Fatalities.astype(int)\n"
   ]
  },
  {
   "cell_type": "code",
   "execution_count": null,
   "id": "b89a2fa7",
   "metadata": {},
   "outputs": [],
   "source": [
    "#events['Type']=events['Type'].str.replace('Terrorism','Non Domestic')"
   ]
  },
  {
   "cell_type": "code",
   "execution_count": null,
   "id": "90577e7f",
   "metadata": {},
   "outputs": [],
   "source": [
    "events['Location']=events['Location'].str.replace('Sutherland Springs, Texas','Domestic')"
   ]
  },
  {
   "cell_type": "code",
   "execution_count": null,
   "id": "aa38ac29",
   "metadata": {},
   "outputs": [],
   "source": []
  },
  {
   "cell_type": "code",
   "execution_count": null,
   "id": "72f6cd89",
   "metadata": {},
   "outputs": [],
   "source": []
  },
  {
   "cell_type": "code",
   "execution_count": null,
   "id": "fb1e8b2b",
   "metadata": {},
   "outputs": [],
   "source": []
  },
  {
   "cell_type": "code",
   "execution_count": null,
   "id": "335fb562",
   "metadata": {},
   "outputs": [],
   "source": []
  },
  {
   "cell_type": "markdown",
   "id": "453a598f",
   "metadata": {},
   "source": [
    "### Final Before event has occured"
   ]
  },
  {
   "cell_type": "code",
   "execution_count": null,
   "id": "780a3742",
   "metadata": {},
   "outputs": [],
   "source": [
    "\n",
    "\n",
    "\n",
    "\n",
    "rolling_window_size = '7D'\n",
    "\n",
    "oilb = pd.DataFrame()\n",
    "\n",
    "# Iterate through each historical event\n",
    "for index, event_row in events.iterrows():\n",
    "    event_date = event_row['Event_date']\n",
    "    \n",
    "    # Calculate the date range for 7 days before the event\n",
    "    date_range_start = event_date - pd.Timedelta(days=7)\n",
    "    \n",
    "    # Filter oil DataFrame for the specified date range\n",
    "    filtered_data = oil[(oil['Date'] >= date_range_start) & (oil['Date'] <= event_date)]\n",
    "    \n",
    "    # Add the 'Event_date' and 'Type' columns from events DataFrame to each row\n",
    "    filtered_data['Event_date'] = event_date\n",
    "    filtered_data['Type'] = event_row['Type']\n",
    "    \n",
    "    # Append the filtered data to the oilb DataFrame\n",
    "    oilb = pd.concat([oilb, filtered_data])\n",
    "\n",
    "\n"
   ]
  },
  {
   "cell_type": "code",
   "execution_count": null,
   "id": "771d85f3",
   "metadata": {},
   "outputs": [],
   "source": [
    "oilb=oilb.reset_index()"
   ]
  },
  {
   "cell_type": "code",
   "execution_count": null,
   "id": "2f31ffde",
   "metadata": {},
   "outputs": [],
   "source": [
    "oilb"
   ]
  },
  {
   "cell_type": "markdown",
   "id": "084a8a8a",
   "metadata": {},
   "source": [
    "## Lets Dive"
   ]
  },
  {
   "cell_type": "markdown",
   "id": "5fdcc475",
   "metadata": {},
   "source": [
    "1. Retrieve the averages of industry through Types 5-7 days before the event has occurred."
   ]
  },
  {
   "cell_type": "code",
   "execution_count": null,
   "id": "30e724c7",
   "metadata": {},
   "outputs": [],
   "source": [
    "av_oilb= oilb.groupby('Type').agg({'Open':'mean','High':'mean','Low':'mean','Close':'mean'})"
   ]
  },
  {
   "cell_type": "markdown",
   "id": "a71dba06",
   "metadata": {},
   "source": [
    "2.Retrieve standard deviation industries before the event"
   ]
  },
  {
   "cell_type": "code",
   "execution_count": null,
   "id": "2d006973",
   "metadata": {},
   "outputs": [],
   "source": [
    "sd_oilb=oilb.groupby('Type').agg({'Open':'std','High':'std','Low':'std','Close':'std'})"
   ]
  },
  {
   "cell_type": "code",
   "execution_count": null,
   "id": "799d6662",
   "metadata": {},
   "outputs": [],
   "source": [
    "av_oilb=av_oilb.reset_index()\n",
    "av_oilb"
   ]
  },
  {
   "cell_type": "code",
   "execution_count": null,
   "id": "e1bb7500",
   "metadata": {},
   "outputs": [],
   "source": [
    "sd_oilb=sd_oilb.reset_index()\n",
    "sd_oilb"
   ]
  },
  {
   "cell_type": "code",
   "execution_count": null,
   "id": "02372807",
   "metadata": {},
   "outputs": [],
   "source": []
  },
  {
   "cell_type": "markdown",
   "id": "94864faa",
   "metadata": {},
   "source": [
    "- candlestick graph doesnt really tell us much, the dates are not relevant at all in this situation."
   ]
  },
  {
   "cell_type": "code",
   "execution_count": null,
   "id": "38a4d55f",
   "metadata": {},
   "outputs": [],
   "source": [
    "import mplfinance as mpf\n",
    "\n",
    "mpf.plot(oilb,type='candle',style='charles')"
   ]
  },
  {
   "cell_type": "markdown",
   "id": "0e42cc49",
   "metadata": {},
   "source": [
    "- compares the av_close and open price for oil industry as a whole before events with the average based off of groups"
   ]
  },
  {
   "cell_type": "code",
   "execution_count": null,
   "id": "0fedff99",
   "metadata": {},
   "outputs": [],
   "source": [
    "\n",
    "# Create a new DataFrame with 'Type', 'Open', and 'Close' columns\n",
    "type_open_close_df = oilb[['Type', 'Open', 'Close']]\n",
    "\n",
    "# Melt the DataFrame to a long format for plotting\n",
    "melted_df = type_open_close_df.melt(id_vars='Type', value_vars=['Open', 'Close'], var_name='Price Type', value_name='Price')\n",
    "\n",
    "# Set the style of seaborn\n",
    "sns.set(style=\"whitegrid\")\n",
    "\n",
    "# Define colors to match the bar plot colors\n",
    "colors = ['blue', 'red']\n",
    "\n",
    "# Create the bar plot\n",
    "plt.figure(figsize=(10, 6))\n",
    "sns.barplot(x='Type', y='Price', hue='Price Type', data=melted_df)\n",
    "\n",
    "# Create the line plot with matching colors\n",
    "sns.lineplot(x='Type', y='Price', hue='Price Type', data=melted_df, palette=colors)\n",
    "\n",
    "plt.title('Comparison of Opening and Closing Prices by Type')\n",
    "plt.xlabel('Type')\n",
    "plt.ylabel('Price')\n",
    "plt.legend()\n",
    "plt.xticks(rotation=45)\n",
    "\n",
    "plt.tight_layout()\n",
    "plt.show()\n"
   ]
  },
  {
   "cell_type": "markdown",
   "id": "99c1aa63",
   "metadata": {},
   "source": [
    "Looks like the average doesnt fall too far out of line with groups."
   ]
  },
  {
   "cell_type": "code",
   "execution_count": null,
   "id": "a16452ef",
   "metadata": {},
   "outputs": [],
   "source": [
    "\n",
    "\n",
    "# Create a new DataFrame with 'Type', 'Open', and 'Close' columns\n",
    "type_open_close_df = oilb[['Type', 'Open', 'Close']]\n",
    "\n",
    "# Melt the DataFrame to a long format for plotting\n",
    "melted_df = type_open_close_df.melt(id_vars='Type', value_vars=['Open', 'Close'], var_name='Price Type', value_name='Price')\n",
    "\n",
    "# Set the style of seaborn\n",
    "sns.set(style=\"whitegrid\")\n",
    "\n",
    "# Create the bar plot\n",
    "plt.figure(figsize=(10, 6))\n",
    "sns.barplot(x='Type', y='Price', hue='Price Type', data=melted_df)\n",
    "\n",
    "plt.title('Comparison of Opening and Closing Prices by Type')\n",
    "plt.xlabel('Type')\n",
    "plt.ylabel('Price')\n",
    "plt.legend()\n",
    "plt.xticks(rotation=45)\n",
    "\n",
    "plt.tight_layout()\n",
    "plt.show()\n",
    "\n"
   ]
  },
  {
   "cell_type": "markdown",
   "id": "522c5d64",
   "metadata": {},
   "source": [
    "- Finding the diff in average price change for opening and closing prices before event."
   ]
  },
  {
   "cell_type": "code",
   "execution_count": null,
   "id": "63cf862c",
   "metadata": {},
   "outputs": [],
   "source": [
    "\n",
    "oilb['Price Change'] = oilb['Close'] - oilb['Open']\n",
    "\n",
    "\n",
    "average_changes = oilb.groupby('Type')['Price Change'].mean()\n",
    "\n",
    "average_changes"
   ]
  },
  {
   "cell_type": "code",
   "execution_count": null,
   "id": "756429fb",
   "metadata": {},
   "outputs": [],
   "source": [
    "import pandas as pd\n",
    "import seaborn as sns\n",
    "import matplotlib.pyplot as plt\n",
    "\n",
    "# Assuming you have a DataFrame named oilb with calculated 'Price Change' column\n",
    "\n",
    "# Group by 'Type' and calculate the average of price changes\n",
    "average_changes = oilb.groupby('Type')['Price Change'].mean().reset_index()\n",
    "\n",
    "# Set the style of seaborn\n",
    "sns.set(style=\"whitegrid\")\n",
    "sns.set_palette(color_palette)\n",
    "# Create the bar plot\n",
    "plt.figure(figsize=(10, 6))\n",
    "ax = sns.barplot(x='Type', y='Price Change', data=average_changes)\n",
    "\n",
    "plt.title('Average Change in Opening and Closing Prices by Type')\n",
    "plt.xlabel('Type')\n",
    "plt.ylabel('Average Price Change')\n",
    "plt.xticks(rotation=45)\n",
    "\n",
    "# Invert the y-axis\n",
    "ax.invert_yaxis()\n",
    "\n",
    "plt.tight_layout()\n",
    "plt.show()\n"
   ]
  },
  {
   "cell_type": "markdown",
   "id": "43d0f2a9",
   "metadata": {},
   "source": [
    "-calculate percent change between close and opening price"
   ]
  },
  {
   "cell_type": "code",
   "execution_count": null,
   "id": "e060ae05",
   "metadata": {},
   "outputs": [],
   "source": [
    "\n",
    "oilb['Percent Change'] = ((oilb['Close'] - oilb['Open']) / oilb['Open']) * 100\n"
   ]
  },
  {
   "cell_type": "code",
   "execution_count": null,
   "id": "f9a8140b",
   "metadata": {},
   "outputs": [],
   "source": [
    "\n",
    "\n",
    "\n",
    "\n",
    "# Group by 'Type' and calculate the average of percent changes\n",
    "average_percent_changes = oilb.groupby('Type')['Percent Change'].mean().reset_index()\n",
    "\n",
    "average_percent_changes\n"
   ]
  },
  {
   "cell_type": "code",
   "execution_count": null,
   "id": "2c003083",
   "metadata": {},
   "outputs": [],
   "source": [
    "import pandas as pd\n",
    "import seaborn as sns\n",
    "import matplotlib.pyplot as plt\n",
    "\n",
    "# Assuming you have a DataFrame named oilb with calculated 'Percent Change' column\n",
    "\n",
    "# Group by 'Type' and calculate the average of percent changes\n",
    "average_percent_changes = oilb.groupby('Type')['Percent Change'].mean().reset_index()\n",
    "\n",
    "# Set the style of seaborn\n",
    "sns.set(style=\"whitegrid\")\n",
    "sns.set_palette(color_palette)\n",
    "# Create the bar plot\n",
    "plt.figure(figsize=(10, 6))\n",
    "ax = sns.barplot(x='Type', y='Percent Change', data=average_percent_changes)\n",
    "\n",
    "plt.title('Average Percent Change in Opening and Closing Prices by Type')\n",
    "plt.xlabel('Type')\n",
    "plt.ylabel('Average Percent Change (%)')\n",
    "plt.xticks(rotation=45)\n",
    "\n",
    "# Invert the y-axis\n",
    "ax.invert_yaxis()\n",
    "\n",
    "\n",
    "plt.tight_layout()\n",
    "plt.show()\n"
   ]
  },
  {
   "cell_type": "markdown",
   "id": "128cef07",
   "metadata": {},
   "source": [
    "* we can see that our events that occur 5-7 days before event have the drop over 3% "
   ]
  },
  {
   "cell_type": "code",
   "execution_count": null,
   "id": "4456be80",
   "metadata": {},
   "outputs": [],
   "source": [
    "import seaborn as sns\n",
    "import matplotlib.pyplot as plt\n",
    "\n",
    "# Assuming you have a DataFrame named sd_oilb with calculated standard deviations\n",
    "\n",
    "# Define the colors to match the previous graphs\n",
    "colors = ['blue', 'red']\n",
    "\n",
    "# Set the style of seaborn\n",
    "sns.set(style=\"whitegrid\")\n",
    "\n",
    "# Create the bar plot\n",
    "plt.figure(figsize=(10, 6))\n",
    "sns.barplot(x='Type', y='Open', data=sd_oilb, color=colors[0], label='Open Price SD')\n",
    "sns.barplot(x='Type', y='Close', data=sd_oilb, color=colors[1], label='Close Price SD')\n",
    "\n",
    "plt.title('Standard Deviations of Open and Close Prices by Type')\n",
    "plt.xlabel('Type')\n",
    "plt.ylabel('Standard Deviation')\n",
    "plt.xticks(rotation=45)\n",
    "\n",
    "plt.legend()\n",
    "plt.tight_layout()\n",
    "plt.show()\n"
   ]
  },
  {
   "cell_type": "markdown",
   "id": "7ad3954a",
   "metadata": {},
   "source": [
    "- above graph is showing sd of opening and closing prices. As we can see there is not votatlity between our prices."
   ]
  },
  {
   "cell_type": "markdown",
   "id": "d29f9263",
   "metadata": {},
   "source": [
    "### events after the event oil industry"
   ]
  },
  {
   "cell_type": "code",
   "execution_count": null,
   "id": "43851e52",
   "metadata": {},
   "outputs": [],
   "source": [
    "rolling_window_size = '7D'\n",
    "\n",
    "oila = pd.DataFrame()\n",
    "\n",
    "# Iterate through each historical event\n",
    "for index, event_row in events.iterrows():\n",
    "    event_date = event_row['Event_date']\n",
    "    \n",
    "    # Calculate the date range for 7 days after the event\n",
    "    date_range_end = event_date + pd.Timedelta(days=7)\n",
    "    \n",
    "    # Filter oil DataFrame for the specified date range\n",
    "    filtered_data = oil[(oil['Date'] > event_date) & (oil['Date'] <= date_range_end)]\n",
    "    \n",
    "    # Add the 'Event_date' and 'Type' columns from events DataFrame to each row\n",
    "    filtered_data['Event_date'] = event_date\n",
    "    filtered_data['Type'] = event_row['Type']\n",
    "    \n",
    "    # Append the filtered data to the oilb DataFrame\n",
    "    oila = pd.concat([oila, filtered_data])\n",
    "\n",
    "# Reset index of the resulting DataFrame\n",
    "oila = oila.reset_index(drop=True)\n",
    "\n"
   ]
  },
  {
   "cell_type": "code",
   "execution_count": null,
   "id": "17b498d6",
   "metadata": {},
   "outputs": [],
   "source": [
    "oila.columns"
   ]
  },
  {
   "cell_type": "code",
   "execution_count": null,
   "id": "8b394087",
   "metadata": {},
   "outputs": [],
   "source": [
    "av_oila= oila.groupby('Type').agg({'Open':'mean','High':'mean','Low':'mean','Close':'mean'})"
   ]
  },
  {
   "cell_type": "code",
   "execution_count": null,
   "id": "3d203634",
   "metadata": {},
   "outputs": [],
   "source": [
    "sd_oila=oila.groupby('Type').agg({'Open':'std','High':'std','Low':'std','Close':'std'})"
   ]
  },
  {
   "cell_type": "code",
   "execution_count": null,
   "id": "7e1ec7ec",
   "metadata": {},
   "outputs": [],
   "source": [
    "av_oila=av_oila.reset_index()"
   ]
  },
  {
   "cell_type": "code",
   "execution_count": null,
   "id": "561f379c",
   "metadata": {},
   "outputs": [],
   "source": [
    "av_oila"
   ]
  },
  {
   "cell_type": "code",
   "execution_count": null,
   "id": "9aba18bf",
   "metadata": {},
   "outputs": [],
   "source": [
    "sd_oila=sd_oila.reset_index()\n",
    "sd_oila"
   ]
  },
  {
   "cell_type": "code",
   "execution_count": null,
   "id": "d4f6c60b",
   "metadata": {},
   "outputs": [],
   "source": [
    "# Create a new DataFrame with 'Type', 'Open', and 'Close' columns\n",
    "type_open_close_dfa= oila[['Type', 'Open', 'Close']]\n",
    "\n",
    "# Melt the DataFrame to a long format for plotting\n",
    "melted_dfa = type_open_close_dfa.melt(id_vars='Type', value_vars=['Open', 'Close'], var_name='Price Type', value_name='Price')\n",
    "\n",
    "# Set the style of seaborn\n",
    "sns.set(style=\"whitegrid\")\n",
    "\n",
    "# Define colors to match the bar plot colors\n",
    "colors = ['blue', 'red']\n",
    "\n",
    "# Create the bar plot\n",
    "plt.figure(figsize=(10, 6))\n",
    "sns.barplot(x='Type', y='Price', hue='Price Type', data=melted_dfa)\n",
    "\n",
    "# Create the line plot with matching colors\n",
    "sns.lineplot(x='Type', y='Price', hue='Price Type', data=melted_dfa, palette=colors)\n",
    "\n",
    "plt.title('Comparison of Opening and Closing Prices by Type')\n",
    "plt.xlabel('Type')\n",
    "plt.ylabel('Price')\n",
    "plt.legend()\n",
    "plt.xticks(rotation=45)\n",
    "\n",
    "plt.tight_layout()\n",
    "plt.show()"
   ]
  },
  {
   "cell_type": "code",
   "execution_count": null,
   "id": "145693aa",
   "metadata": {},
   "outputs": [],
   "source": [
    "# Create a new DataFrame with 'Type', 'Open', and 'Close' columns\n",
    "type_open_close_df = oila[['Type', 'Open', 'Close']]\n",
    "\n",
    "# Melt the DataFrame to a long format for plotting\n",
    "melted_df = type_open_close_df.melt(id_vars='Type', value_vars=['Open', 'Close'], var_name='Price Type', value_name='Price')\n",
    "\n",
    "# Set the style of seaborn\n",
    "sns.set(style=\"whitegrid\")\n",
    "\n",
    "# Create the bar plot\n",
    "plt.figure(figsize=(10, 6))\n",
    "sns.barplot(x='Type', y='Price', hue='Price Type', data=melted_df)\n",
    "\n",
    "plt.title('Comparison of Opening and Closing Prices by Type')\n",
    "plt.xlabel('Type')\n",
    "plt.ylabel('Price')\n",
    "plt.legend()\n",
    "plt.xticks(rotation=45)\n",
    "\n",
    "plt.tight_layout()\n",
    "plt.show()\n",
    "\n"
   ]
  },
  {
   "cell_type": "markdown",
   "id": "7d23e1de",
   "metadata": {},
   "source": [
    "-calculate percent change for after oil and difference in price"
   ]
  },
  {
   "cell_type": "code",
   "execution_count": null,
   "id": "1bf26257",
   "metadata": {},
   "outputs": [],
   "source": [
    "oila['Price Change'] = oila['Close'] - oila['Open']"
   ]
  },
  {
   "cell_type": "code",
   "execution_count": null,
   "id": "4d514add",
   "metadata": {},
   "outputs": [],
   "source": [
    "oila['Percent Change'] = ((oila['Close'] - oila['Open']) / oila['Open']) * 100\n"
   ]
  },
  {
   "cell_type": "code",
   "execution_count": null,
   "id": "0ad0cdbc",
   "metadata": {},
   "outputs": [],
   "source": [
    "# Group by 'Type' and calculate the average of percent changes\n",
    "average_percent_changesa = oila.groupby('Type')['Percent Change'].mean().reset_index()\n",
    "aver\n",
    "average_percent_changesa\n"
   ]
  },
  {
   "cell_type": "code",
   "execution_count": null,
   "id": "78b57e4c",
   "metadata": {},
   "outputs": [],
   "source": []
  },
  {
   "cell_type": "code",
   "execution_count": null,
   "id": "380797c1",
   "metadata": {},
   "outputs": [],
   "source": [
    "oila"
   ]
  },
  {
   "cell_type": "code",
   "execution_count": null,
   "id": "3ecac629",
   "metadata": {},
   "outputs": [],
   "source": []
  },
  {
   "cell_type": "code",
   "execution_count": null,
   "id": "808442f8",
   "metadata": {},
   "outputs": [],
   "source": []
  },
  {
   "cell_type": "code",
   "execution_count": null,
   "id": "b24639b4",
   "metadata": {},
   "outputs": [],
   "source": []
  },
  {
   "cell_type": "code",
   "execution_count": null,
   "id": "b60d94f4",
   "metadata": {},
   "outputs": [],
   "source": []
  },
  {
   "cell_type": "code",
   "execution_count": null,
   "id": "e46fe8a1",
   "metadata": {},
   "outputs": [],
   "source": []
  },
  {
   "cell_type": "code",
   "execution_count": null,
   "id": "cd17b3b8",
   "metadata": {},
   "outputs": [],
   "source": []
  },
  {
   "cell_type": "markdown",
   "id": "67a0b923",
   "metadata": {},
   "source": [
    "#### effect size "
   ]
  },
  {
   "cell_type": "code",
   "execution_count": null,
   "id": "0eed3d03",
   "metadata": {},
   "outputs": [],
   "source": []
  },
  {
   "cell_type": "code",
   "execution_count": null,
   "id": "cc022bde",
   "metadata": {},
   "outputs": [],
   "source": [
    "oila"
   ]
  },
  {
   "cell_type": "code",
   "execution_count": null,
   "id": "292c1b1d",
   "metadata": {},
   "outputs": [],
   "source": [
    "oilb"
   ]
  },
  {
   "cell_type": "code",
   "execution_count": null,
   "id": "4723319c",
   "metadata": {},
   "outputs": [],
   "source": []
  },
  {
   "cell_type": "code",
   "execution_count": null,
   "id": "3b407e67",
   "metadata": {},
   "outputs": [],
   "source": [
    "columns_to_use='Open'\n",
    "mean_diff_oil=oila[columns_to_use].mean()-oilb[columns_to_use].mean()"
   ]
  },
  {
   "cell_type": "code",
   "execution_count": null,
   "id": "715f43b2",
   "metadata": {},
   "outputs": [],
   "source": [
    "mean_diff_oil"
   ]
  },
  {
   "cell_type": "code",
   "execution_count": null,
   "id": "8d949cee",
   "metadata": {},
   "outputs": [],
   "source": [
    "pooled_sd= np.sqrt((oilb[columns_to_use]**2+oila[columns_to_use]**2)/2)"
   ]
  },
  {
   "cell_type": "code",
   "execution_count": null,
   "id": "5cf41a8d",
   "metadata": {},
   "outputs": [],
   "source": [
    "oila.shape"
   ]
  },
  {
   "cell_type": "code",
   "execution_count": null,
   "id": "55443f0f",
   "metadata": {},
   "outputs": [],
   "source": [
    "oilb.shape"
   ]
  },
  {
   "cell_type": "code",
   "execution_count": null,
   "id": "557b075a",
   "metadata": {},
   "outputs": [],
   "source": [
    "oilb=oilb.drop(columns='Year')\n"
   ]
  },
  {
   "cell_type": "code",
   "execution_count": null,
   "id": "0fadfe71",
   "metadata": {},
   "outputs": [],
   "source": [
    "oila"
   ]
  },
  {
   "cell_type": "code",
   "execution_count": null,
   "id": "7e6ab957",
   "metadata": {},
   "outputs": [],
   "source": [
    "oilb"
   ]
  },
  {
   "cell_type": "code",
   "execution_count": null,
   "id": "8f299ef8",
   "metadata": {},
   "outputs": [],
   "source": []
  }
 ],
 "metadata": {
  "kernelspec": {
   "display_name": "Python 3",
   "language": "python",
   "name": "python3"
  },
  "language_info": {
   "codemirror_mode": {
    "name": "ipython",
    "version": 3
   },
   "file_extension": ".py",
   "mimetype": "text/x-python",
   "name": "python",
   "nbconvert_exporter": "python",
   "pygments_lexer": "ipython3",
   "version": "3.8.8"
  }
 },
 "nbformat": 4,
 "nbformat_minor": 5
}
