{
 "cells": [
  {
   "cell_type": "markdown",
   "id": "118d0d9e",
   "metadata": {},
   "source": [
    "### Install yfinanace to retrieve Yahoo finance information"
   ]
  },
  {
   "cell_type": "code",
   "execution_count": null,
   "id": "8cef6ce3",
   "metadata": {},
   "outputs": [],
   "source": [
    "pip install yfinance"
   ]
  },
  {
   "cell_type": "code",
   "execution_count": null,
   "id": "3f35f09c",
   "metadata": {},
   "outputs": [],
   "source": [
    "import pandas as pd\n",
    "import matplotlib.pyplot as plt\n",
    "from datetime import datetime\n",
    "plt.style.use('seaborn')\n",
    "import yfinance as yf\n",
    "import time"
   ]
  },
  {
   "cell_type": "markdown",
   "id": "f6deef49",
   "metadata": {},
   "source": [
    "### 9 companies from the tech and "
   ]
  },
  {
   "cell_type": "code",
   "execution_count": null,
   "id": "720f3e1f",
   "metadata": {},
   "outputs": [],
   "source": [
    "oil=['XOM','CVX','COP','BP','SHEL','PSX','VLO','OXY','MPC','EOG']\n",
    "tech=['AAPL','AMZN','META','MSFT','GOOG','INTC','CSCO','IBM','ORCL','TSLA']"
   ]
  },
  {
   "cell_type": "markdown",
   "id": "31e14396",
   "metadata": {},
   "source": [
    "### Time we are looking over"
   ]
  },
  {
   "cell_type": "code",
   "execution_count": null,
   "id": "e13e336c",
   "metadata": {},
   "outputs": [],
   "source": [
    "start_date='2000-01-01'\n",
    "end_date='2020-12-31'"
   ]
  },
  {
   "cell_type": "code",
   "execution_count": null,
   "id": "b83614dd",
   "metadata": {},
   "outputs": [],
   "source": [
    "oil_df=pd.DataFrame()"
   ]
  },
  {
   "cell_type": "code",
   "execution_count": null,
   "id": "19629d24",
   "metadata": {},
   "outputs": [],
   "source": [
    "tech_df=pd.DataFrame()"
   ]
  },
  {
   "cell_type": "markdown",
   "id": "4dbdbc78",
   "metadata": {},
   "source": [
    "### for loop that will take from the companies list and pull historical data for said company."
   ]
  },
  {
   "cell_type": "code",
   "execution_count": null,
   "id": "a55e853a",
   "metadata": {},
   "outputs": [],
   "source": [
    "for company in oil:\n",
    "    ticker = yf.Ticker(company)\n",
    "    historical_data = ticker.history(start=start_date, end=end_date, interval='1wk')\n",
    "    historical_data['Ticker'] = company\n",
    "    oil_df = pd.concat([oil_df, historical_data])\n",
    "    # Add a delay of 1 second bet\n",
    "    time.sleep(10)"
   ]
  },
  {
   "cell_type": "code",
   "execution_count": null,
   "id": "f3a51ce5",
   "metadata": {},
   "outputs": [],
   "source": [
    "for company in tech:\n",
    "    ticker = yf.Ticker(company)\n",
    "    historical_data = ticker.history(start=start_date, end=end_date, interval='1wk')\n",
    "    historical_data['Ticker'] = company\n",
    "    tech_df = pd.concat([tech_df, historical_data])\n",
    "    # Add a delay of 1 second bet\n",
    "    time.sleep(10)"
   ]
  },
  {
   "cell_type": "markdown",
   "id": "af564139",
   "metadata": {},
   "source": [
    "### Oil and tech information for tech and oil companies"
   ]
  },
  {
   "cell_type": "code",
   "execution_count": null,
   "id": "6bfda079",
   "metadata": {
    "scrolled": true
   },
   "outputs": [],
   "source": [
    "oil_df=oil_df.reset_index()\n",
    "tech_df=tech_df.reset_index()"
   ]
  },
  {
   "cell_type": "code",
   "execution_count": null,
   "id": "eb502a56",
   "metadata": {},
   "outputs": [],
   "source": [
    "tech_df=tech_df.reset_index()"
   ]
  },
  {
   "cell_type": "code",
   "execution_count": null,
   "id": "ca848c45",
   "metadata": {
    "scrolled": true
   },
   "outputs": [],
   "source": [
    "tech_df.info()"
   ]
  },
  {
   "cell_type": "code",
   "execution_count": null,
   "id": "c1a0e23d",
   "metadata": {},
   "outputs": [],
   "source": [
    "tech_df.Open.mean()"
   ]
  },
  {
   "cell_type": "code",
   "execution_count": null,
   "id": "04fc28ae",
   "metadata": {},
   "outputs": [],
   "source": [
    "oil_df.Open.mean()"
   ]
  },
  {
   "cell_type": "code",
   "execution_count": null,
   "id": "627bd426",
   "metadata": {},
   "outputs": [],
   "source": [
    "oil_df.High.mean()"
   ]
  },
  {
   "cell_type": "code",
   "execution_count": null,
   "id": "60e0a69e",
   "metadata": {},
   "outputs": [],
   "source": [
    "oil=oil_df.reset_index()"
   ]
  },
  {
   "cell_type": "code",
   "execution_count": null,
   "id": "606915ff",
   "metadata": {},
   "outputs": [],
   "source": []
  },
  {
   "cell_type": "code",
   "execution_count": null,
   "id": "712650d7",
   "metadata": {},
   "outputs": [],
   "source": [
    "oil.info()"
   ]
  },
  {
   "cell_type": "code",
   "execution_count": null,
   "id": "b82ac529",
   "metadata": {},
   "outputs": [],
   "source": [
    "tech_df.info()"
   ]
  },
  {
   "cell_type": "markdown",
   "id": "70451277",
   "metadata": {},
   "source": [
    "### Turning data frames into cvs"
   ]
  },
  {
   "cell_type": "code",
   "execution_count": null,
   "id": "412db642",
   "metadata": {},
   "outputs": [],
   "source": [
    "oil.to_csv('oil_dfinal.csv',index=False)"
   ]
  },
  {
   "cell_type": "code",
   "execution_count": null,
   "id": "3ed2334a",
   "metadata": {},
   "outputs": [],
   "source": [
    "tech_df.to_csv('tech_dfinal.csv',index=False)"
   ]
  },
  {
   "cell_type": "code",
   "execution_count": null,
   "id": "fc30df87",
   "metadata": {},
   "outputs": [],
   "source": []
  }
 ],
 "metadata": {
  "kernelspec": {
   "display_name": "Python 3",
   "language": "python",
   "name": "python3"
  },
  "language_info": {
   "codemirror_mode": {
    "name": "ipython",
    "version": 3
   },
   "file_extension": ".py",
   "mimetype": "text/x-python",
   "name": "python",
   "nbconvert_exporter": "python",
   "pygments_lexer": "ipython3",
   "version": "3.8.8"
  }
 },
 "nbformat": 4,
 "nbformat_minor": 5
}
