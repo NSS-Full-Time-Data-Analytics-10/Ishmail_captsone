{
 "cells": [
  {
   "cell_type": "markdown",
   "id": "ac85216e",
   "metadata": {},
   "source": [
    "### Install yfinance for Market information"
   ]
  },
  {
   "cell_type": "code",
   "execution_count": null,
   "id": "28dc649e",
   "metadata": {},
   "outputs": [],
   "source": [
    "pip install yfinance"
   ]
  },
  {
   "cell_type": "markdown",
   "id": "f1b3a697",
   "metadata": {},
   "source": [
    "### Import packages"
   ]
  },
  {
   "cell_type": "code",
   "execution_count": null,
   "id": "9b80e3aa",
   "metadata": {},
   "outputs": [],
   "source": [
    "import pandas as pd\n",
    "import numpy as np\n",
    "from datetime import datetime\n",
    "import seaborn as sns\n",
    "import matplotlib.pyplot as plt\n"
   ]
  },
  {
   "cell_type": "markdown",
   "id": "7d1dc3a9",
   "metadata": {},
   "source": [
    "### Read in files"
   ]
  },
  {
   "cell_type": "code",
   "execution_count": null,
   "id": "04b9c6b0",
   "metadata": {},
   "outputs": [],
   "source": [
    "oil=pd.read_csv('./data/oil_dfinal.csv')"
   ]
  },
  {
   "cell_type": "code",
   "execution_count": null,
   "id": "bf4789ca",
   "metadata": {},
   "outputs": [],
   "source": [
    "tech=pd.read_csv('./data/tech_dfinal.csv')"
   ]
  },
  {
   "cell_type": "code",
   "execution_count": null,
   "id": "76e5c603",
   "metadata": {},
   "outputs": [],
   "source": [
    "events=pd.read_csv('./data/final_events.csv')"
   ]
  },
  {
   "cell_type": "code",
   "execution_count": null,
   "id": "ccb5c3fb",
   "metadata": {},
   "outputs": [],
   "source": []
  },
  {
   "cell_type": "code",
   "execution_count": null,
   "id": "fe7bfb69",
   "metadata": {},
   "outputs": [],
   "source": []
  },
  {
   "cell_type": "code",
   "execution_count": null,
   "id": "b10d7f43",
   "metadata": {},
   "outputs": [],
   "source": []
  },
  {
   "cell_type": "code",
   "execution_count": null,
   "id": "f54ccd6f",
   "metadata": {},
   "outputs": [],
   "source": []
  },
  {
   "cell_type": "markdown",
   "id": "65549afb",
   "metadata": {},
   "source": [
    "### Oil Data Cleaning"
   ]
  },
  {
   "cell_type": "code",
   "execution_count": null,
   "id": "94fedcc0",
   "metadata": {},
   "outputs": [],
   "source": [
    "oil['Date']=oil.Date.str[:10]"
   ]
  },
  {
   "cell_type": "code",
   "execution_count": null,
   "id": "4ae675bd",
   "metadata": {},
   "outputs": [],
   "source": [
    "oil[\"Date\"]=pd.to_datetime(oil['Date'])"
   ]
  },
  {
   "cell_type": "code",
   "execution_count": null,
   "id": "54bf0763",
   "metadata": {},
   "outputs": [],
   "source": [
    "oil.dtypes"
   ]
  },
  {
   "cell_type": "code",
   "execution_count": null,
   "id": "e9e857ee",
   "metadata": {},
   "outputs": [],
   "source": [
    "oil.head(3)"
   ]
  },
  {
   "cell_type": "code",
   "execution_count": null,
   "id": "9f919e26",
   "metadata": {},
   "outputs": [],
   "source": [
    "to_drop=['Volume','Dividends','Stock Splits']\n",
    "oil=oil.drop(columns=to_drop)"
   ]
  },
  {
   "cell_type": "code",
   "execution_count": null,
   "id": "a70a3255",
   "metadata": {
    "scrolled": true
   },
   "outputs": [],
   "source": [
    "oil.head(3)"
   ]
  },
  {
   "cell_type": "code",
   "execution_count": null,
   "id": "12ef6e2d",
   "metadata": {},
   "outputs": [],
   "source": []
  },
  {
   "cell_type": "code",
   "execution_count": null,
   "id": "66474379",
   "metadata": {},
   "outputs": [],
   "source": []
  },
  {
   "cell_type": "code",
   "execution_count": null,
   "id": "550d9bd4",
   "metadata": {},
   "outputs": [],
   "source": []
  },
  {
   "cell_type": "code",
   "execution_count": null,
   "id": "fdba3d3e",
   "metadata": {},
   "outputs": [],
   "source": []
  },
  {
   "cell_type": "markdown",
   "id": "7380b346",
   "metadata": {},
   "source": [
    "### Events Cleaning "
   ]
  },
  {
   "cell_type": "code",
   "execution_count": null,
   "id": "962f3742",
   "metadata": {},
   "outputs": [],
   "source": [
    "events=events.loc[(events['Year']>2000) & (events[\"Year\"]<=2020)]"
   ]
  },
  {
   "cell_type": "code",
   "execution_count": null,
   "id": "e500a642",
   "metadata": {},
   "outputs": [],
   "source": [
    "events['Date']=pd.to_datetime(events['Date'])"
   ]
  },
  {
   "cell_type": "code",
   "execution_count": null,
   "id": "867f9759",
   "metadata": {},
   "outputs": [],
   "source": [
    "events=events[events['Date'].notnull()]"
   ]
  },
  {
   "cell_type": "code",
   "execution_count": null,
   "id": "1d0ce0cd",
   "metadata": {},
   "outputs": [],
   "source": [
    "events['Type']=events['Type'].str.replace('Domestic  Terrorism','Domestic Terrorism')\n"
   ]
  },
  {
   "cell_type": "code",
   "execution_count": null,
   "id": "68d2ac8c",
   "metadata": {},
   "outputs": [],
   "source": [
    "events['Type']=events['Type'].str.replace('Domestic Terrorism ','Domestic Terrorism')"
   ]
  },
  {
   "cell_type": "code",
   "execution_count": null,
   "id": "c8a45679",
   "metadata": {},
   "outputs": [],
   "source": [
    "index_to_drop=657"
   ]
  },
  {
   "cell_type": "code",
   "execution_count": null,
   "id": "89b5207a",
   "metadata": {},
   "outputs": [],
   "source": [
    "events=events.drop(index=index_to_drop)"
   ]
  },
  {
   "cell_type": "code",
   "execution_count": null,
   "id": "b20533ed",
   "metadata": {},
   "outputs": [],
   "source": [
    "events.Type=events['Type'].str.replace('Accident ','Accident')"
   ]
  },
  {
   "cell_type": "code",
   "execution_count": null,
   "id": "f8b226f9",
   "metadata": {},
   "outputs": [],
   "source": [
    "events=events.rename(columns={'Date':'Event_date'})\n"
   ]
  },
  {
   "cell_type": "code",
   "execution_count": null,
   "id": "b7a8c24f",
   "metadata": {},
   "outputs": [],
   "source": [
    "events=events.loc[:,['Fatalities','Year','Article','Type','Location','Event_date']]"
   ]
  },
  {
   "cell_type": "code",
   "execution_count": null,
   "id": "296a44ec",
   "metadata": {},
   "outputs": [],
   "source": [
    "events.Fatalities=events.Fatalities.str.replace('2,996','2996')"
   ]
  },
  {
   "cell_type": "code",
   "execution_count": null,
   "id": "c9f6a12e",
   "metadata": {},
   "outputs": [],
   "source": [
    "events.Fatalities=events.Fatalities.astype(int)"
   ]
  },
  {
   "cell_type": "code",
   "execution_count": null,
   "id": "09ff7a9c",
   "metadata": {},
   "outputs": [],
   "source": [
    "events['month']=events['Event_date'].dt.month"
   ]
  },
  {
   "cell_type": "code",
   "execution_count": null,
   "id": "fa60ec04",
   "metadata": {},
   "outputs": [],
   "source": [
    "events.Type.loc[events['Type']=='Terrorism']='Int Terrorism'"
   ]
  },
  {
   "cell_type": "code",
   "execution_count": null,
   "id": "a955997c",
   "metadata": {},
   "outputs": [],
   "source": [
    "events['Location']=events['Location'].str.replace('Sutherland Springs, Texas','Domestic')"
   ]
  },
  {
   "cell_type": "code",
   "execution_count": null,
   "id": "837809f8",
   "metadata": {},
   "outputs": [],
   "source": []
  },
  {
   "cell_type": "code",
   "execution_count": null,
   "id": "7669028b",
   "metadata": {},
   "outputs": [],
   "source": []
  },
  {
   "cell_type": "code",
   "execution_count": null,
   "id": "0e6cd5ea",
   "metadata": {},
   "outputs": [],
   "source": []
  },
  {
   "cell_type": "markdown",
   "id": "97b7c5d9",
   "metadata": {},
   "source": [
    "### Create DF for before the event and after the event"
   ]
  },
  {
   "cell_type": "code",
   "execution_count": null,
   "id": "90a9ff7e",
   "metadata": {},
   "outputs": [],
   "source": [
    "#Before event\n",
    "rolling_window_size = '7D'\n",
    "\n",
    "oilb = pd.DataFrame()\n",
    "\n",
    "\n",
    "for index, event_row in events.iterrows():\n",
    "    event_date = event_row['Event_date']\n",
    "    \n",
    "   \n",
    "    date_range_start = event_date - pd.Timedelta(days=7)\n",
    "    \n",
    "    \n",
    "    filtered_data = oil[(oil['Date'] >= date_range_start) & (oil['Date'] <= event_date)]\n",
    "    \n",
    "    filtered_data['Event_date'] = event_date\n",
    "    filtered_data['Type'] = event_row['Type']\n",
    "    \n",
    "    oilb = pd.concat([oilb, filtered_data])\n"
   ]
  },
  {
   "cell_type": "code",
   "execution_count": null,
   "id": "1be66357",
   "metadata": {},
   "outputs": [],
   "source": [
    "oilb=oilb.reset_index()"
   ]
  },
  {
   "cell_type": "code",
   "execution_count": null,
   "id": "dbf66cc5",
   "metadata": {},
   "outputs": [],
   "source": [
    "#After event\n",
    "rolling_window_size = '7D'\n",
    "\n",
    "oila = pd.DataFrame()\n",
    "\n",
    "for index, event_row in events.iterrows():\n",
    "    event_date = event_row['Event_date']\n",
    "    \n",
    "    date_range_end = event_date + pd.Timedelta(days=7)\n",
    "    \n",
    "    filtered_data = oil[(oil['Date'] > event_date) & (oil['Date'] <= date_range_end)]\n",
    "    \n",
    "    \n",
    "    filtered_data['Event_date'] = event_date\n",
    "    filtered_data['Type'] = event_row['Type']\n",
    "    \n",
    "    \n",
    "    oila = pd.concat([oila, filtered_data])\n",
    "\n",
    "oila = oila.reset_index(drop=True)\n"
   ]
  },
  {
   "cell_type": "code",
   "execution_count": null,
   "id": "55b92f98",
   "metadata": {},
   "outputs": [],
   "source": [
    "oilb['Price Change'] = oilb['Close'] - oilb['Open']\n",
    "oila['Price Change']=oila['Close']-oila['Open']\n",
    "oilb['Percent Change'] = ((oilb['Close'] - oilb['Open']) / oilb['Open']) * 100\n",
    "oila['Percent Change'] = ((oila['Close'] - oila['Open']) / oila['Open']) * 100\n"
   ]
  },
  {
   "cell_type": "markdown",
   "id": "15bbad79",
   "metadata": {},
   "source": [
    "# Average Percent Change"
   ]
  },
  {
   "cell_type": "code",
   "execution_count": null,
   "id": "1ae73df4",
   "metadata": {},
   "outputs": [],
   "source": [
    "#oilb average percent change by type\n",
    "\n",
    "\n",
    "\n",
    "# Use a colorblind-friendly palette\n",
    "sns.set_palette(\"colorblind\")\n",
    "\n",
    "# Define a list of colors from the palette for each event type\n",
    "colors = sns.color_palette(\"colorblind\", n_colors=len(oilb['Type'].unique()))\n",
    "\n",
    "# Group the DataFrame by 'Type' and calculate the average price change\n",
    "avg_price_change_by_type = oilb.groupby('Type')['Percent Change'].mean()\n",
    "\n",
    "# Create a bar plot with different colors for each event type\n",
    "plt.figure(figsize=(10, 6))\n",
    "avg_price_change_by_type.plot(kind='bar', color=colors)\n",
    "\n",
    "# Adding labels and title\n",
    "plt.xlabel('Event Type')\n",
    "plt.ylabel('Average Price Change')\n",
    "plt.title('Average Oil Percent Change Before Event')\n",
    "\n",
    "# Show the plot\n",
    "plt.tight_layout()\n",
    "plt.show()\n"
   ]
  },
  {
   "cell_type": "code",
   "execution_count": null,
   "id": "d096f704",
   "metadata": {},
   "outputs": [],
   "source": [
    "#oila average percent change by type\n",
    "\n",
    "\n",
    "\n",
    "# Use a colorblind-friendly palette\n",
    "sns.set_palette(\"colorblind\")\n",
    "\n",
    "# Define a list of colors from the palette for each event type\n",
    "colors = sns.color_palette(\"colorblind\", n_colors=len(oilb['Type'].unique()))\n",
    "\n",
    "# Group the DataFrame by 'Type' and calculate the average price change\n",
    "avg_price_change_by_type = oila.groupby('Type')['Percent Change'].mean()\n",
    "\n",
    "# Create a bar plot with different colors for each event type\n",
    "plt.figure(figsize=(10, 6))\n",
    "avg_price_change_by_type.plot(kind='bar', color=colors)\n",
    "\n",
    "# Adding labels and title\n",
    "plt.xlabel('Event Type')\n",
    "plt.ylabel('Average Price Change')\n",
    "plt.title('Average Oil Percent Change After Event')\n",
    "\n",
    "# Show the plot\n",
    "plt.tight_layout()\n",
    "plt.show()"
   ]
  },
  {
   "cell_type": "markdown",
   "id": "cf7cb0be",
   "metadata": {},
   "source": [
    "# Average Price change"
   ]
  },
  {
   "cell_type": "code",
   "execution_count": null,
   "id": "0683fe3d",
   "metadata": {},
   "outputs": [],
   "source": [
    "# average price change oilb befroe\n",
    "\n",
    "sns.set_palette(\"colorblind\")\n",
    "\n",
    "# Group the DataFrame by 'Type' and calculate the mean effect size for each measurement\n",
    "avg_pricing = oilb.groupby('Type')[['Open', 'High', 'Low', 'Close']].mean()\n",
    "\n",
    "# Create a bar plot\n",
    "plt.figure(figsize=(20, 15))\n",
    "ax=avg_pricing.plot(kind='barh');\n",
    "\n",
    "# Adding labels and title\n",
    "plt.xlabel('Event Type')\n",
    "plt.ylabel('Average Price')\n",
    "plt.title('Average Oil Prices Before Events')\n",
    "ax.legend(loc='upper right')\n",
    "# Show the plot\n",
    "plt.tight_layout()\n",
    "plt.show()"
   ]
  },
  {
   "cell_type": "markdown",
   "id": "f6a91be3",
   "metadata": {},
   "source": [
    "# oil average price after event"
   ]
  },
  {
   "cell_type": "code",
   "execution_count": null,
   "id": "1c54b7f3",
   "metadata": {},
   "outputs": [],
   "source": [
    "\n",
    "\n",
    "# Set the color palette\n",
    "sns.set_palette(\"colorblind\")\n",
    "\n",
    "# Group the DataFrame by 'Type' and calculate the mean effect size for each measurement\n",
    "avg_pricing = oila.groupby('Type')[['Open', 'High', 'Low', 'Close']].mean()\n",
    "\n",
    "# Create a larger bar plot for presentation\n",
    "plt.figure(figsize=(30, 15))  # Adjust the width and height as needed\n",
    "ax = avg_pricing.plot(kind='barh')\n",
    "\n",
    "# Adding labels and title\n",
    "plt.xlabel('Event Type')\n",
    "plt.ylabel('Average Price')\n",
    "plt.title('Average Oil Prices After Events')\n",
    "\n",
    "# Move the legend to the upper right corner\n",
    "ax.legend(loc='upper right')\n",
    "\n",
    "# Show the plot\n",
    "plt.tight_layout()\n",
    "plt.show()\n"
   ]
  },
  {
   "cell_type": "markdown",
   "id": "4f845e0b",
   "metadata": {},
   "source": [
    "### Lets Dive"
   ]
  },
  {
   "cell_type": "code",
   "execution_count": null,
   "id": "f5778f97",
   "metadata": {},
   "outputs": [],
   "source": [
    "### effect size of oil industry."
   ]
  },
  {
   "cell_type": "code",
   "execution_count": null,
   "id": "e0aa3a91",
   "metadata": {},
   "outputs": [],
   "source": [
    "\n",
    "\n",
    "\n",
    "\n",
    "grouped_oilb = oilb.groupby('Type')\n",
    "grouped_oila = oila.groupby('Type')\n",
    "measurements = ['Open', 'High', 'Low', 'Close']\n",
    "effect_sizes_dict = {'Type': []}\n",
    "\n",
    "for measurement in measurements:\n",
    "    effect_sizes_dict[measurement] = []\n",
    "\n",
    "\n",
    "for group, group_data_oilb in grouped_oilb:\n",
    "    group_data_oila = grouped_oila.get_group(group)\n",
    "    \n",
    "    effect_sizes_dict['Type'].append(group)\n",
    "    \n",
    "    for measurement in measurements:\n",
    "        mean_oilb = group_data_oilb[measurement].mean()\n",
    "        mean_oila = group_data_oila[measurement].mean()\n",
    "        pooled_std = np.sqrt((group_data_oilb[measurement].std()**2 + group_data_oila[measurement].std()**2) / 2)\n",
    "        \n",
    "        effect_size = (mean_oila - mean_oilb) / pooled_std\n",
    "        effect_sizes_dict[measurement].append(effect_size)\n",
    "effect_cohen = pd.DataFrame(effect_sizes_dict)\n",
    "\n",
    "\n"
   ]
  },
  {
   "cell_type": "markdown",
   "id": "23950c1f",
   "metadata": {},
   "source": [
    "# visualization cohen oil industry"
   ]
  },
  {
   "cell_type": "code",
   "execution_count": null,
   "id": "bf18a9e7",
   "metadata": {},
   "outputs": [],
   "source": [
    "# cohens effect size\n",
    "# Set the color palette\n",
    "sns.set_palette(\"colorblind\")\n",
    "\n",
    "# Group the DataFrame by 'Type' and calculate the mean effect size for each measurement\n",
    "avg_effect_size_by_type = effect_cohen.groupby('Type')[['Open', 'High', 'Low', 'Close']].mean()\n",
    "\n",
    "# Create a bar plot\n",
    "plt.figure(figsize=(22, 55))\n",
    "avg_effect_size_by_type.plot(kind='barh')\n",
    "\n",
    "# Adding labels and title\n",
    "plt.xlabel('Event Type')\n",
    "plt.ylabel('Average Oil Effect Size')\n",
    "plt.title('Average Oil Effect Size by Event Type')\n",
    "\n",
    "# Show the plot\n",
    "plt.tight_layout()\n",
    "plt.show()\n",
    ";"
   ]
  },
  {
   "cell_type": "code",
   "execution_count": null,
   "id": "0eec232b",
   "metadata": {},
   "outputs": [],
   "source": [
    "effect_cohen.to_csv()"
   ]
  },
  {
   "cell_type": "markdown",
   "id": "187bc1e9",
   "metadata": {},
   "source": [
    "indicates that the means of the \"oila\" group (after the event) are lower than the means of the \"oilb\" group (before the event) for the specific columns you're analyzing. This suggests that the values for the \"oila\" group are generally lower than those for the \"oilb\" group.\n",
    "\n"
   ]
  },
  {
   "cell_type": "markdown",
   "id": "d7b2203a",
   "metadata": {},
   "source": [
    "### Hedge's d effect size for smaller sample sizes"
   ]
  },
  {
   "cell_type": "code",
   "execution_count": null,
   "id": "11e7491b",
   "metadata": {},
   "outputs": [],
   "source": [
    "\n",
    "grouped_oilb = oilb.groupby('Type')\n",
    "grouped_oila = oila.groupby('Type')\n",
    "\n",
    "measurements = ['Open', 'High', 'Low', 'Close']\n",
    "\n",
    "effect_sizes_dict = {'Type': []}\n",
    "\n",
    "for measurement in measurements:\n",
    "    effect_sizes_dict[measurement] = []\n",
    "\n",
    "for group, group_data_oilb in grouped_oilb:\n",
    "    group_data_oila = grouped_oila.get_group(group)\n",
    "    \n",
    "    effect_sizes_dict['Type'].append(group)\n",
    "    \n",
    "    for measurement in measurements:\n",
    "        mean_oilb = group_data_oilb[measurement].mean()\n",
    "        mean_oila = group_data_oila[measurement].mean()\n",
    "        std_oilb = group_data_oilb[measurement].std()\n",
    "        std_oila = group_data_oila[measurement].std()\n",
    "        n_oilb = len(group_data_oilb)\n",
    "        n_oila = len(group_data_oila)\n",
    "        \n",
    "        # Calculate Hedges' g effect size for the current measurement and group\n",
    "        pooled_std = np.sqrt(((std_oilb ** 2 * (n_oilb - 1)) + (std_oila ** 2 * (n_oila - 1))) / (n_oilb + n_oila - 2))\n",
    "        hedges_g = (mean_oila - mean_oilb) / pooled_std\n",
    "        \n",
    "        # Store the effect size for the current measurement\n",
    "        effect_sizes_dict[measurement].append(hedges_g)\n",
    "\n",
    "# Create a DataFrame from the effect_sizes_dict\n",
    "effect_hedge = pd.DataFrame(effect_sizes_dict)\n",
    "\n",
    "\n"
   ]
  },
  {
   "cell_type": "code",
   "execution_count": null,
   "id": "737377dd",
   "metadata": {},
   "outputs": [],
   "source": [
    "effect_hedge"
   ]
  },
  {
   "cell_type": "code",
   "execution_count": null,
   "id": "dc758681",
   "metadata": {},
   "outputs": [],
   "source": [
    "effect_cohen"
   ]
  },
  {
   "cell_type": "markdown",
   "id": "afb9edf6",
   "metadata": {},
   "source": [
    "- Here we can see that since cohen and edge have similar value that we have a large sample size, meaning we can limit the assumption of bias in the data frame."
   ]
  },
  {
   "cell_type": "markdown",
   "id": "25051107",
   "metadata": {},
   "source": [
    "### Averages by Type"
   ]
  },
  {
   "cell_type": "code",
   "execution_count": null,
   "id": "45f5afd3",
   "metadata": {},
   "outputs": [],
   "source": [
    "before_oilav= oilb.groupby('Type').agg({'Open':'mean','High':'mean','Low':'mean','Close':'mean'}).reset_index()"
   ]
  },
  {
   "cell_type": "code",
   "execution_count": null,
   "id": "7fb9644d",
   "metadata": {},
   "outputs": [],
   "source": [
    "after_oilav= oila.groupby('Type').agg({'Open':'mean','High':'mean','Low':'mean','Close':'mean'}).reset_index()"
   ]
  },
  {
   "cell_type": "code",
   "execution_count": null,
   "id": "da0862ab",
   "metadata": {
    "scrolled": true
   },
   "outputs": [],
   "source": [
    "after_oilav"
   ]
  },
  {
   "cell_type": "code",
   "execution_count": null,
   "id": "4a69f19a",
   "metadata": {},
   "outputs": [],
   "source": [
    "after_oilav.to_csv('averages_after',index=False)"
   ]
  },
  {
   "cell_type": "code",
   "execution_count": null,
   "id": "fbb6c96d",
   "metadata": {
    "scrolled": false
   },
   "outputs": [],
   "source": [
    "before_oilav"
   ]
  },
  {
   "cell_type": "markdown",
   "id": "c6ba4801",
   "metadata": {},
   "source": [
    "* Here we can see what the effect size is interpreting for us, which is that the means before the event tend to be higher than after which can be seen by the negative outputs on effect size"
   ]
  },
  {
   "cell_type": "markdown",
   "id": "e55ff2eb",
   "metadata": {},
   "source": [
    "### Median by types "
   ]
  },
  {
   "cell_type": "code",
   "execution_count": null,
   "id": "4c6f7f20",
   "metadata": {},
   "outputs": [],
   "source": [
    "after_mediano = oila.groupby('Type')[['Open', 'High', 'Low', 'Close']].median().reset_index()\n",
    "before_mediano = oilb.groupby('Type')[['Open', 'High', 'Low', 'Close']].median().reset_index()"
   ]
  },
  {
   "cell_type": "code",
   "execution_count": null,
   "id": "73763538",
   "metadata": {},
   "outputs": [],
   "source": [
    "after_mediano"
   ]
  },
  {
   "cell_type": "code",
   "execution_count": null,
   "id": "16c29364",
   "metadata": {},
   "outputs": [],
   "source": [
    "before_mediano"
   ]
  },
  {
   "cell_type": "markdown",
   "id": "7b5ed128",
   "metadata": {},
   "source": [
    "#### Correlation of before and after for oil"
   ]
  },
  {
   "cell_type": "code",
   "execution_count": null,
   "id": "b579cd6b",
   "metadata": {
    "scrolled": true
   },
   "outputs": [],
   "source": [
    "\n",
    "after_oil = oila.groupby('Type')\n",
    "\n",
    "correlation_aftero = after_oil[[ 'Close', 'Open']].corr().unstack(level=0)\n",
    "\n",
    "correlation_aftero"
   ]
  },
  {
   "cell_type": "code",
   "execution_count": null,
   "id": "84fdc85d",
   "metadata": {},
   "outputs": [],
   "source": [
    "\n",
    "before_oil = oilb.groupby('Type')\n",
    "\n",
    "\n",
    "correlation_beforeo = before_oil[[ 'Close', 'Open']].corr().unstack(level=0)\n",
    "\n",
    "correlation_aftero"
   ]
  },
  {
   "cell_type": "markdown",
   "id": "be3b492c",
   "metadata": {},
   "source": [
    "### Finding the p-value for Opening,High,Low,Close"
   ]
  },
  {
   "cell_type": "code",
   "execution_count": null,
   "id": "0b6b0706",
   "metadata": {
    "scrolled": true
   },
   "outputs": [],
   "source": [
    "\n",
    "from scipy.stats import ttest_ind\n",
    "\n",
    "\n",
    "# Group the DataFrame by 'Type'\n",
    "grouped = oilb.groupby('Type')\n",
    "\n",
    "# List of columns for which to calculate p-values\n",
    "columns_to_test = ['Open', 'High', 'Low', 'Close']\n",
    "\n",
    "# Create an empty DataFrame to store the p-values\n",
    "p_values_before = pd.DataFrame(columns=['Column', 'Type', 'P-Value'])\n",
    "\n",
    "# Calculate p-values for each column and each group\n",
    "for column in columns_to_test:\n",
    "    for group, group_data in grouped:\n",
    "        group_values = group_data[column]\n",
    "        p_value = ttest_ind(group_values, oilb[column]).pvalue\n",
    "        \n",
    "        p_values_before.loc[len(p_values_before)] = [column, group, p_value]\n",
    "\n",
    "# Display the DataFrame with p-values\n",
    "p_values_before\n"
   ]
  },
  {
   "cell_type": "code",
   "execution_count": null,
   "id": "73abb077",
   "metadata": {
    "scrolled": true
   },
   "outputs": [],
   "source": [
    "p_values_before.loc[p_values_before['P-Value']>=.05]"
   ]
  },
  {
   "cell_type": "code",
   "execution_count": null,
   "id": "b6f58aa2",
   "metadata": {},
   "outputs": [],
   "source": [
    "#p_value after\n",
    "\n",
    "# Group the DataFrame by 'Type'\n",
    "grouped = oila.groupby('Type')\n",
    "\n",
    "# List of columns for which to calculate p-values\n",
    "columns_to_tests = ['Open', 'High', 'Low', 'Close']\n",
    "\n",
    "# Create an empty DataFrame to store the p-values\n",
    "p_values_after = pd.DataFrame(columns=['Column', 'Type', 'P-Value'])\n",
    "\n",
    "# Calculate p-values for each column and each group\n",
    "for column in columns_to_tests:\n",
    "    for group, group_data in grouped:\n",
    "        group_values = group_data[column]\n",
    "        p_value = ttest_ind(group_values, oila[oila['Type'] == group][column]).pvalue\n",
    "        \n",
    "        p_values_after.loc[len(p_values_after)] = [column, group, p_value]\n",
    "\n",
    "# Display the DataFrame with p-values\n",
    "p_values_after\n"
   ]
  },
  {
   "cell_type": "markdown",
   "id": "f2ed0620",
   "metadata": {},
   "source": [
    "* we can see that p-values<.05 indicates observed differences between groups are not random or by chance. Giving them statistical significance meaning we would reject the null hypothesis\n",
    "\n",
    "*  If the p-value is greater than 0.05, it suggests that the observed differences between the groups could plausibly have occurred due to random variation. We would not want to reject the null-hypothesis for these values"
   ]
  },
  {
   "cell_type": "code",
   "execution_count": null,
   "id": "d229d2dd",
   "metadata": {},
   "outputs": [],
   "source": [
    "oilb"
   ]
  },
  {
   "cell_type": "markdown",
   "id": "dec48ee5",
   "metadata": {},
   "source": [
    "### Correlation HeatMap oilb"
   ]
  },
  {
   "cell_type": "code",
   "execution_count": null,
   "id": "5b4c4684",
   "metadata": {},
   "outputs": [],
   "source": [
    "import seaborn as sns\n",
    "import matplotlib.pyplot as plt\n",
    "\n",
    "# Calculate the correlation matrix grouped by 'Type'\n",
    "correlation_matrix_grouped = oilb.groupby('Type')[['Open','High','Low', 'Close']].corr()\n",
    "\n",
    "# Create a heatmap\n",
    "plt.figure(figsize=(10, 8))\n",
    "sns.heatmap(correlation_matrix_grouped, annot=True, cmap='coolwarm', center=0)\n",
    "plt.title('Correlation Heatmap for Oil Before Event Prices Grouped by Type')\n",
    "plt.show()\n"
   ]
  },
  {
   "cell_type": "code",
   "execution_count": null,
   "id": "58f6a40a",
   "metadata": {},
   "outputs": [],
   "source": [
    "import seaborn as sns\n",
    "import matplotlib.pyplot as plt\n",
    "\n",
    "# Calculate the correlation matrix grouped by 'Type'\n",
    "correlation_matrix_grouped = oila.groupby('Type')[['Open', 'High', 'Low', 'Close']].corr()\n",
    "\n",
    "# Create a heatmap\n",
    "plt.figure(figsize=(10, 8))\n",
    "sns.heatmap(correlation_matrix_grouped, annot=True, cmap='coolwarm', center=0)\n",
    "plt.title('Correlation Heatmap for Oil After Event Prices Grouped by Type')\n",
    "plt.show()\n"
   ]
  },
  {
   "cell_type": "markdown",
   "id": "cf1b20d1",
   "metadata": {},
   "source": [
    "### Comparing the price change between before event and after"
   ]
  },
  {
   "cell_type": "markdown",
   "id": "45248e02",
   "metadata": {},
   "source": [
    "### visualization that shows the difference of avg price for oil"
   ]
  },
  {
   "cell_type": "code",
   "execution_count": null,
   "id": "e2327564",
   "metadata": {},
   "outputs": [],
   "source": [
    "percnt_changeb=oilb.groupby('Type')['Percent Change'].mean().to_frame().reset_index()\n",
    "percnt_changea=oila.groupby('Type')['Percent Change'].mean().to_frame().reset_index()"
   ]
  },
  {
   "cell_type": "code",
   "execution_count": null,
   "id": "45907866",
   "metadata": {},
   "outputs": [],
   "source": [
    "percnt_changeb"
   ]
  },
  {
   "cell_type": "code",
   "execution_count": null,
   "id": "ad51759f",
   "metadata": {},
   "outputs": [],
   "source": [
    "percnt_changea"
   ]
  },
  {
   "cell_type": "markdown",
   "id": "86bb45f9",
   "metadata": {},
   "source": [
    "### Tech Clean frame"
   ]
  },
  {
   "cell_type": "code",
   "execution_count": null,
   "id": "9a2bf60e",
   "metadata": {},
   "outputs": [],
   "source": [
    "tech.head(3)"
   ]
  },
  {
   "cell_type": "code",
   "execution_count": null,
   "id": "0a23d7bd",
   "metadata": {},
   "outputs": [],
   "source": [
    "tech['Date']=tech.Date.str[:10]"
   ]
  },
  {
   "cell_type": "code",
   "execution_count": null,
   "id": "1e3439e0",
   "metadata": {},
   "outputs": [],
   "source": [
    "tech.info()"
   ]
  },
  {
   "cell_type": "code",
   "execution_count": null,
   "id": "5484e097",
   "metadata": {},
   "outputs": [],
   "source": [
    "tech['Date']=pd.to_datetime(tech['Date'])"
   ]
  },
  {
   "cell_type": "code",
   "execution_count": null,
   "id": "d64bf0a2",
   "metadata": {},
   "outputs": [],
   "source": [
    "tech.dtypes"
   ]
  },
  {
   "cell_type": "code",
   "execution_count": null,
   "id": "95941ce5",
   "metadata": {},
   "outputs": [],
   "source": [
    "to_drop=['Volume','Dividends','Stock Splits']\n",
    "tech=tech.drop(columns=to_drop)"
   ]
  },
  {
   "cell_type": "code",
   "execution_count": null,
   "id": "ea813917",
   "metadata": {},
   "outputs": [],
   "source": []
  },
  {
   "cell_type": "code",
   "execution_count": null,
   "id": "16fcfb88",
   "metadata": {},
   "outputs": [],
   "source": []
  },
  {
   "cell_type": "code",
   "execution_count": null,
   "id": "ca15d602",
   "metadata": {},
   "outputs": [],
   "source": []
  },
  {
   "cell_type": "markdown",
   "id": "5ecaf0b0",
   "metadata": {},
   "source": [
    "### Tech Before event has occurred "
   ]
  },
  {
   "cell_type": "code",
   "execution_count": null,
   "id": "342ab19d",
   "metadata": {
    "scrolled": true
   },
   "outputs": [],
   "source": [
    "rolling_window_size = '7D'\n",
    "\n",
    "techb = pd.DataFrame()\n",
    "\n",
    "# Iterate through each historical event\n",
    "for index, event_row in events.iterrows():\n",
    "    event_date = event_row['Event_date']\n",
    "    \n",
    "    # Calculate the date range for 7 days before the event\n",
    "    date_range_start = event_date - pd.Timedelta(days=7)\n",
    "    \n",
    "    # Filter oil DataFrame for the specified date range\n",
    "    filtered_data = tech[(tech['Date'] >= date_range_start) & (tech['Date'] <= event_date)]\n",
    "    \n",
    "    # Add the 'Event_date' and 'Type' columns from events DataFrame to each row\n",
    "    filtered_data['Event_date'] = event_date\n",
    "    filtered_data['Type'] = event_row['Type']\n",
    "    \n",
    "    # Append the filtered data to the oilb DataFrame\n",
    "    techb = pd.concat([techb, filtered_data])"
   ]
  },
  {
   "cell_type": "code",
   "execution_count": null,
   "id": "09a62477",
   "metadata": {},
   "outputs": [],
   "source": [
    "techb=techb.reset_index(drop=True)"
   ]
  },
  {
   "cell_type": "code",
   "execution_count": null,
   "id": "340c0666",
   "metadata": {},
   "outputs": [],
   "source": [
    "techb"
   ]
  },
  {
   "cell_type": "markdown",
   "id": "425a7403",
   "metadata": {},
   "source": [
    "### Tech after"
   ]
  },
  {
   "cell_type": "code",
   "execution_count": null,
   "id": "7784f30d",
   "metadata": {},
   "outputs": [],
   "source": [
    "rolling_window_size = '7D'\n",
    "\n",
    "techa = pd.DataFrame()\n",
    "\n",
    "# Iterate through each historical event\n",
    "for index, event_row in events.iterrows():\n",
    "    event_date = event_row['Event_date']\n",
    "    \n",
    "    # Calculate the date range for 7 days after the event\n",
    "    date_range_end = event_date + pd.Timedelta(days=7)\n",
    "    \n",
    "    # Filter oil DataFrame for the specified date range\n",
    "    filtered_data = tech[(tech['Date'] > event_date) & (oil['Date'] <= date_range_end)]\n",
    "    \n",
    "    # Add the 'Event_date' and 'Type' columns from events DataFrame to each row\n",
    "    filtered_data['Event_date'] = event_date\n",
    "    filtered_data['Type'] = event_row['Type']\n",
    "    \n",
    "    # Append the filtered data to the oilb DataFrame\n",
    "    techa = pd.concat([techa, filtered_data])\n",
    "\n",
    "# Reset index of the resulting DataFrame\n",
    "techa = techa.reset_index(drop=True)\n",
    "\n"
   ]
  },
  {
   "cell_type": "code",
   "execution_count": null,
   "id": "0cbdceac",
   "metadata": {},
   "outputs": [],
   "source": [
    "techa"
   ]
  },
  {
   "cell_type": "code",
   "execution_count": null,
   "id": "75751766",
   "metadata": {},
   "outputs": [],
   "source": [
    "techb"
   ]
  },
  {
   "cell_type": "code",
   "execution_count": null,
   "id": "ff800914",
   "metadata": {},
   "outputs": [],
   "source": [
    "#add the columns of price change and percent change\n",
    "techb['Price Change'] = techb['Close'] - techb['Open']\n",
    "techb['Percent Change'] = ((techb['Close'] - techb['Open']) / techb['Open']) * 100\n"
   ]
  },
  {
   "cell_type": "code",
   "execution_count": null,
   "id": "c86ef1f9",
   "metadata": {},
   "outputs": [],
   "source": [
    "techa['Price Change'] = techa['Close'] - techa['Open']\n",
    "techa['Percent Change'] = ((techa['Close'] - techa['Open']) / techa['Open']) * 100\n"
   ]
  },
  {
   "cell_type": "markdown",
   "id": "f8c92313",
   "metadata": {},
   "source": [
    "## average price  tech"
   ]
  },
  {
   "cell_type": "code",
   "execution_count": null,
   "id": "a5c47959",
   "metadata": {},
   "outputs": [],
   "source": [
    "# average price change techb befroe\n",
    "\n",
    "sns.set_palette(\"colorblind\")\n",
    "\n",
    "# Group the DataFrame by 'Type' and calculate the mean effect size for each measurement\n",
    "avg_pricing = techb.groupby('Type')[['Open', 'High', 'Low', 'Close']].mean()\n",
    "\n",
    "# Create a bar plot\n",
    "plt.figure(figsize=(20, 15))\n",
    "ax=avg_pricing.plot(kind='barh');\n",
    "\n",
    "# Adding labels and title\n",
    "plt.xlabel('Event Type')\n",
    "plt.ylabel('Average Price')\n",
    "plt.title('Average Tech Prices Before Events')\n",
    "ax.legend(loc='upper right')\n",
    "# Show the plot\n",
    "plt.tight_layout()\n",
    "plt.show()"
   ]
  },
  {
   "cell_type": "code",
   "execution_count": null,
   "id": "24db98c7",
   "metadata": {},
   "outputs": [],
   "source": [
    "# average price techa after\n",
    "\n",
    "sns.set_palette(\"colorblind\")\n",
    "\n",
    "# Group the DataFrame by 'Type' and calculate the mean effect size for each measurement\n",
    "avg_pricing = techa.groupby('Type')[['Open', 'High', 'Low', 'Close']].mean()\n",
    "\n",
    "# Create a bar plot\n",
    "plt.figure(figsize=(20, 15))\n",
    "ax=avg_pricing.plot(kind='barh');\n",
    "\n",
    "# Adding labels and title\n",
    "plt.xlabel('Event Type')\n",
    "plt.ylabel('Average Price')\n",
    "plt.title('Average Tech Prices After Events')\n",
    "ax.legend(loc='upper right')\n",
    "# Show the plot\n",
    "plt.tight_layout()\n",
    "plt.show()"
   ]
  },
  {
   "cell_type": "code",
   "execution_count": null,
   "id": "31bfabb3",
   "metadata": {},
   "outputs": [],
   "source": []
  },
  {
   "cell_type": "markdown",
   "id": "95c27af7",
   "metadata": {},
   "source": [
    "## correlation tech before and after"
   ]
  },
  {
   "cell_type": "code",
   "execution_count": null,
   "id": "8611b88d",
   "metadata": {},
   "outputs": [],
   "source": [
    "import seaborn as sns\n",
    "import matplotlib.pyplot as plt\n",
    "\n",
    "# Calculate the correlation matrix grouped by 'Type'\n",
    "correlation_matrix_grouped = techb.groupby('Type')[['Open','High','Low', 'Close']].corr()\n",
    "\n",
    "# Create a heatmap\n",
    "plt.figure(figsize=(10, 8))\n",
    "sns.heatmap(correlation_matrix_grouped, annot=True, cmap='coolwarm', center=0)\n",
    "plt.title('Correlation Heatmap for Tech Before Event Prices Grouped by Type')\n",
    "plt.show()\n"
   ]
  },
  {
   "cell_type": "code",
   "execution_count": null,
   "id": "ad992d4d",
   "metadata": {},
   "outputs": [],
   "source": [
    "import seaborn as sns\n",
    "import matplotlib.pyplot as plt\n",
    "\n",
    "# Calculate the correlation matrix grouped by 'Type'\n",
    "correlation_matrix_grouped = techa.groupby('Type')[['Open','High','Low', 'Close']].corr()\n",
    "\n",
    "# Create a heatmap\n",
    "plt.figure(figsize=(10, 8))\n",
    "sns.heatmap(correlation_matrix_grouped, annot=True, cmap='coolwarm', center=0)\n",
    "plt.title('Correlation Heatmap for Tech After Event Prices Grouped by Type')\n",
    "plt.show()\n"
   ]
  },
  {
   "cell_type": "code",
   "execution_count": null,
   "id": "7ba20c55",
   "metadata": {},
   "outputs": [],
   "source": [
    "## effect size "
   ]
  },
  {
   "cell_type": "code",
   "execution_count": null,
   "id": "3891ca33",
   "metadata": {},
   "outputs": [],
   "source": []
  },
  {
   "cell_type": "code",
   "execution_count": null,
   "id": "49d644ae",
   "metadata": {},
   "outputs": [],
   "source": []
  },
  {
   "cell_type": "code",
   "execution_count": null,
   "id": "dccc79ff",
   "metadata": {},
   "outputs": [],
   "source": []
  },
  {
   "cell_type": "code",
   "execution_count": null,
   "id": "955fe4da",
   "metadata": {},
   "outputs": [],
   "source": [
    "techb.head(2)"
   ]
  },
  {
   "cell_type": "code",
   "execution_count": null,
   "id": "c9f4471e",
   "metadata": {},
   "outputs": [],
   "source": [
    "techa.head(2)"
   ]
  },
  {
   "cell_type": "markdown",
   "id": "7b40c8ea",
   "metadata": {},
   "source": [
    "1. Retrieve the averages of industry through Types 5-7 days before the event has occurred."
   ]
  },
  {
   "cell_type": "code",
   "execution_count": null,
   "id": "7a411311",
   "metadata": {},
   "outputs": [],
   "source": [
    "before_techav= techb.groupby('Type').agg({'Open':'mean','High':'mean','Low':'mean','Close':'mean'})\n"
   ]
  },
  {
   "cell_type": "code",
   "execution_count": null,
   "id": "81b28ee9",
   "metadata": {},
   "outputs": [],
   "source": [
    "after_techav= techa.groupby('Type').agg({'Open':'mean','High':'mean','Low':'mean','Close':'mean'})"
   ]
  },
  {
   "cell_type": "code",
   "execution_count": null,
   "id": "03eb0137",
   "metadata": {},
   "outputs": [],
   "source": [
    "after_techav"
   ]
  },
  {
   "cell_type": "code",
   "execution_count": null,
   "id": "1f725e4b",
   "metadata": {},
   "outputs": [],
   "source": [
    "before_techav"
   ]
  },
  {
   "cell_type": "code",
   "execution_count": null,
   "id": "b8a5c110",
   "metadata": {},
   "outputs": [],
   "source": [
    "prct_techb=techb.groupby('Type')['Percent Change'].mean().to_frame().reset_index()\n",
    "prct_techa=techa.groupby('Type')['Percent Change'].mean().to_frame().reset_index()\n",
    "prct_oilb=oilb.groupby('Type')['Percent Change'].mean().to_frame().reset_index()\n",
    "prct_oila=oila.groupby('Type')[\"Percent Change\"].mean().to_frame().reset_index()"
   ]
  },
  {
   "cell_type": "markdown",
   "id": "9e855ecc",
   "metadata": {},
   "source": [
    "### Cohen effect size of tech industry"
   ]
  },
  {
   "cell_type": "code",
   "execution_count": null,
   "id": "801b4359",
   "metadata": {},
   "outputs": [],
   "source": [
    "grouped_techb = techb.groupby('Type')\n",
    "grouped_techa = techa.groupby('Type')\n",
    "measurements = ['Open', 'High', 'Low', 'Close']\n",
    "effect_sizes_dict = {'Type': []}\n",
    "\n",
    "for measurement in measurements:\n",
    "    effect_sizes_dict[measurement] = []\n",
    "\n",
    "\n",
    "for group, group_data_techb in grouped_techb:\n",
    "    group_data_techa = grouped_techa.get_group(group)\n",
    "    \n",
    "    effect_sizes_dict['Type'].append(group)\n",
    "    \n",
    "    for measurement in measurements:\n",
    "        mean_techb = group_data_techb[measurement].mean()\n",
    "        mean_techa = group_data_techa[measurement].mean()\n",
    "        pooled_std = np.sqrt((group_data_techb[measurement].std()**2 + group_data_techa[measurement].std()**2) / 2)\n",
    "        \n",
    "        effect_size = (mean_oila - mean_oilb) / pooled_std\n",
    "        effect_sizes_dict[measurement].append(effect_size)\n",
    "effect_cohentech = pd.DataFrame(effect_sizes_dict)\n",
    "\n",
    "\n"
   ]
  },
  {
   "cell_type": "code",
   "execution_count": null,
   "id": "fcf82511",
   "metadata": {
    "scrolled": true
   },
   "outputs": [],
   "source": [
    "effect_cohentech"
   ]
  },
  {
   "cell_type": "code",
   "execution_count": null,
   "id": "9cc18bd6",
   "metadata": {},
   "outputs": [],
   "source": [
    "# cohens effect size tech\n",
    "# Set the color palette\n",
    "sns.set_palette(\"colorblind\")\n",
    "\n",
    "# Group the DataFrame by 'Type' and calculate the mean effect size for each measurement\n",
    "avg_effect_size_by_type = effect_cohentech.groupby('Type')[['Open', 'High', 'Low', 'Close']].mean()\n",
    "\n",
    "# Create a bar plot\n",
    "plt.figure(figsize=(22, 55))\n",
    "avg_effect_size_by_type.plot(kind='barh')\n",
    "\n",
    "# Adding labels and title\n",
    "plt.xlabel('Event Type')\n",
    "plt.ylabel('Average Tech Effect Size')\n",
    "plt.title('Average Tech Effect Size by Event Type')\n",
    "\n",
    "# Show the plot\n",
    "plt.tight_layout()\n",
    "plt.show()\n",
    ";"
   ]
  },
  {
   "cell_type": "code",
   "execution_count": null,
   "id": "6b5aadb1",
   "metadata": {},
   "outputs": [],
   "source": [
    "### compare effect size of both industries open"
   ]
  },
  {
   "cell_type": "code",
   "execution_count": null,
   "id": "b6374f1d",
   "metadata": {},
   "outputs": [],
   "source": [
    "\n",
    "# Extract the types from the data frames\n",
    "types = effect_cohentech['Type']\n",
    "\n",
    "# Set the width of the bars\n",
    "bar_width = 0.35\n",
    "\n",
    "# Define the positions for the bars\n",
    "ind = np.arange(len(types))\n",
    "\n",
    "# Create a bar graph for effect size comparison by type\n",
    "plt.figure(figsize=(12, 6))\n",
    "plt.bar(ind, effect_cohentech['Open'], width=bar_width, label='Tech',color='green')\n",
    "plt.bar(ind + bar_width, effect_cohen['Open'], width=bar_width, label='Oil',color='magenta')\n",
    "\n",
    "# Label settings\n",
    "plt.xlabel('Type')\n",
    "plt.ylabel('Effect Size (Open)')\n",
    "plt.title('Effect Size Comparison by Industry and Type (Open)')\n",
    "plt.xticks(ind + bar_width / 2, types, rotation=45)\n",
    "plt.legend()\n",
    "\n",
    "plt.tight_layout()\n",
    "plt.show()\n"
   ]
  },
  {
   "cell_type": "code",
   "execution_count": null,
   "id": "e957941b",
   "metadata": {},
   "outputs": [],
   "source": [
    "### compare effect size of industry based on closing price"
   ]
  },
  {
   "cell_type": "code",
   "execution_count": null,
   "id": "0253bb2d",
   "metadata": {},
   "outputs": [],
   "source": [
    "# Extract the types from the data frames\n",
    "types = effect_cohentech['Type']\n",
    "\n",
    "# Set the width of the bars\n",
    "bar_width = 0.35\n",
    "\n",
    "# Define the positions for the bars\n",
    "ind = np.arange(len(types))\n",
    "\n",
    "# Create a bar graph for effect size comparison by type\n",
    "plt.figure(figsize=(12, 6))\n",
    "plt.bar(ind, effect_cohentech['Close'], width=bar_width, label='Tech',color='green')\n",
    "plt.bar(ind + bar_width, effect_cohen['Close'], width=bar_width, label='Oil',color='magenta')\n",
    "\n",
    "# Label settings\n",
    "plt.xlabel('Type')\n",
    "plt.ylabel('Effect Size (Close)')\n",
    "plt.title('Effect Size Comparison by Industry and Type (Close)')\n",
    "plt.xticks(ind + bar_width / 2, types, rotation=45)\n",
    "plt.legend()\n",
    "\n",
    "plt.tight_layout()\n",
    "plt.show()\n"
   ]
  },
  {
   "cell_type": "code",
   "execution_count": null,
   "id": "04586ca0",
   "metadata": {},
   "outputs": [],
   "source": [
    "# Extract the types from the data frames\n",
    "types = effect_cohentech['Type']\n",
    "\n",
    "# Set the width of the bars\n",
    "bar_width = 0.35\n",
    "\n",
    "# Define the positions for the bars\n",
    "ind = np.arange(len(types))\n",
    "\n",
    "# Create a bar graph for effect size comparison by type\n",
    "plt.figure(figsize=(12, 6))\n",
    "plt.bar(ind, effect_cohentech['High'], width=bar_width, label='Tech',color='green')\n",
    "plt.bar(ind + bar_width, effect_cohen['High'], width=bar_width, label='Oil',color='magenta')\n",
    "\n",
    "# Label settings\n",
    "plt.xlabel('Type')\n",
    "plt.ylabel('Effect Size (High)')\n",
    "plt.title('Effect Size Comparison by Industry and Type (High)')\n",
    "plt.xticks(ind + bar_width / 2, types, rotation=45)\n",
    "plt.legend()\n",
    "\n",
    "plt.tight_layout()\n",
    "plt.show()"
   ]
  },
  {
   "cell_type": "code",
   "execution_count": null,
   "id": "21fd9ab9",
   "metadata": {},
   "outputs": [],
   "source": [
    "# Extract the types from the data frames\n",
    "types = effect_cohentech['Type']\n",
    "\n",
    "# Set the width of the bars\n",
    "bar_width = 0.35\n",
    "\n",
    "# Define the positions for the bars\n",
    "ind = np.arange(len(types))\n",
    "\n",
    "# Create a bar graph for effect size comparison by type\n",
    "plt.figure(figsize=(12, 6))\n",
    "plt.bar(ind, effect_cohentech['Low'], width=bar_width, label='Tech',color='green')\n",
    "plt.bar(ind + bar_width, effect_cohen['Low'], width=bar_width, label='Oil',color='magenta')\n",
    "\n",
    "# Label settings\n",
    "plt.xlabel('Type')\n",
    "plt.ylabel('Effect Size (Low)')\n",
    "plt.title('Effect Size Comparison by Industry and Type (Low)')\n",
    "plt.xticks(ind + bar_width / 2, types, rotation=45)\n",
    "plt.legend()\n",
    "\n",
    "plt.tight_layout()\n",
    "plt.show()"
   ]
  },
  {
   "cell_type": "code",
   "execution_count": null,
   "id": "d7db771e",
   "metadata": {},
   "outputs": [],
   "source": [
    "oilb"
   ]
  },
  {
   "cell_type": "code",
   "execution_count": null,
   "id": "faf63a72",
   "metadata": {},
   "outputs": [],
   "source": [
    "oila"
   ]
  },
  {
   "cell_type": "code",
   "execution_count": null,
   "id": "f0e43f38",
   "metadata": {},
   "outputs": [],
   "source": [
    "techb"
   ]
  },
  {
   "cell_type": "code",
   "execution_count": null,
   "id": "720c1045",
   "metadata": {},
   "outputs": [],
   "source": [
    "techa"
   ]
  },
  {
   "cell_type": "code",
   "execution_count": null,
   "id": "ccfd00e8",
   "metadata": {},
   "outputs": [],
   "source": [
    "effect_cohen"
   ]
  },
  {
   "cell_type": "code",
   "execution_count": null,
   "id": "66c24ab5",
   "metadata": {},
   "outputs": [],
   "source": [
    "effect_cohentech"
   ]
  },
  {
   "cell_type": "code",
   "execution_count": null,
   "id": "c0addf59",
   "metadata": {},
   "outputs": [],
   "source": []
  },
  {
   "cell_type": "code",
   "execution_count": null,
   "id": "ffd4b33f",
   "metadata": {},
   "outputs": [],
   "source": []
  },
  {
   "cell_type": "code",
   "execution_count": null,
   "id": "fc7ee62e",
   "metadata": {},
   "outputs": [],
   "source": [
    "\n",
    "from scipy.stats import ttest_ind\n",
    "\n",
    "\n",
    "\n",
    "grouped = techb.groupby('Type')\n",
    "\n",
    "\n",
    "columns_to_test = ['Open', 'High', 'Low', 'Close']\n",
    "\n",
    "\n",
    "p_values_techb = pd.DataFrame(columns=['Column', 'Type', 'P-Value'])\n",
    "\n",
    "for column in columns_to_test:\n",
    "    for group, group_data in grouped:\n",
    "        group_values = group_data[column]\n",
    "        p_value = ttest_ind(group_values, techb[column]).pvalue\n",
    "        \n",
    "        p_values_techb.loc[len(p_values_techb)] = [column, group, p_value]\n",
    "\n",
    "# Display the DataFrame with p-values\n",
    "\n"
   ]
  },
  {
   "cell_type": "code",
   "execution_count": null,
   "id": "ef31bf10",
   "metadata": {},
   "outputs": [],
   "source": [
    "p_values_techb"
   ]
  },
  {
   "cell_type": "code",
   "execution_count": null,
   "id": "bb7bfb02",
   "metadata": {},
   "outputs": [],
   "source": [
    "from scipy.stats import ttest_ind\n",
    "\n",
    "\n",
    "# Group the DataFrame by 'Type'\n",
    "grouped = techa.groupby('Type')\n",
    "\n",
    "\n",
    "columns_to_test = ['Open', 'High', 'Low', 'Close']\n",
    "\n",
    "p_values_techa = pd.DataFrame(columns=['Column', 'Type', 'P-Value'])\n",
    "\n",
    "# Calculate p-values for each column and each group\n",
    "for column in columns_to_test:\n",
    "    for group, group_data in grouped:\n",
    "        group_values = group_data[column]\n",
    "        p_value = ttest_ind(group_values, techa[column]).pvalue\n",
    "        \n",
    "        p_values_techa.loc[len(p_values_techa)] = [column, group, p_value]\n",
    "\n"
   ]
  },
  {
   "cell_type": "code",
   "execution_count": null,
   "id": "712a6941",
   "metadata": {},
   "outputs": [],
   "source": [
    "p_values_techa"
   ]
  },
  {
   "cell_type": "code",
   "execution_count": null,
   "id": "a08e5a72",
   "metadata": {},
   "outputs": [],
   "source": [
    "av_techb= techb.groupby('Type').agg({'Open':'mean','High':'mean','Low':'mean','Close':'mean'}).reset_index()"
   ]
  },
  {
   "cell_type": "code",
   "execution_count": null,
   "id": "57aa4a24",
   "metadata": {},
   "outputs": [],
   "source": [
    "av_tercha= techa.groupby('Type').agg({'Open':'mean','High':'mean','Low':'mean','Close':'mean'}).reset_index()"
   ]
  },
  {
   "cell_type": "code",
   "execution_count": null,
   "id": "3d6295b6",
   "metadata": {},
   "outputs": [],
   "source": []
  },
  {
   "cell_type": "code",
   "execution_count": null,
   "id": "c72ba626",
   "metadata": {},
   "outputs": [],
   "source": [
    "av_techb"
   ]
  },
  {
   "cell_type": "code",
   "execution_count": null,
   "id": "77db2b73",
   "metadata": {},
   "outputs": [],
   "source": []
  },
  {
   "cell_type": "code",
   "execution_count": null,
   "id": "34571073",
   "metadata": {},
   "outputs": [],
   "source": [
    "av_tercha"
   ]
  },
  {
   "cell_type": "code",
   "execution_count": null,
   "id": "d648bb91",
   "metadata": {},
   "outputs": [],
   "source": []
  },
  {
   "cell_type": "code",
   "execution_count": null,
   "id": "ef96b6c2",
   "metadata": {},
   "outputs": [],
   "source": [
    "grouped_oilb = techb.groupby('Type')\n",
    "grouped_oila = techa.groupby('Type')\n",
    "\n",
    "measurements = ['Open', 'High', 'Low', 'Close']\n",
    "\n",
    "effect_sizes_dict = {'Type': []}\n",
    "\n",
    "for measurement in measurements:\n",
    "    effect_sizes_dict[measurement] = []\n",
    "\n",
    "for group, group_data_oilb in grouped_oilb:\n",
    "    group_data_oila = grouped_techa.get_group(group)\n",
    "    \n",
    "    effect_sizes_dict['Type'].append(group)\n",
    "    \n",
    "    for measurement in measurements:\n",
    "        mean_oilb = group_data_oilb[measurement].mean()\n",
    "        mean_oila = group_data_oila[measurement].mean()\n",
    "        std_oilb = group_data_oilb[measurement].std()\n",
    "        std_oila = group_data_oila[measurement].std()\n",
    "        n_oilb = len(group_data_oilb)\n",
    "        n_oila = len(group_data_oila)\n",
    "        \n",
    "        # Calculate Hedges' g effect size for the current measurement and group\n",
    "        pooled_std = np.sqrt(((std_oilb ** 2 * (n_oilb - 1)) + (std_oila ** 2 * (n_oila - 1))) / (n_oilb + n_oila - 2))\n",
    "        hedges_g = (mean_oila - mean_oilb) / pooled_std\n",
    "        \n",
    "        # Store the effect size for the current measurement\n",
    "        effect_sizes_dict[measurement].append(hedges_g)\n",
    "\n",
    "# Create a DataFrame from the effect_sizes_dict\n",
    "effect_hedge = pd.DataFrame(effect_sizes_dict)\n"
   ]
  },
  {
   "cell_type": "code",
   "execution_count": null,
   "id": "7de3a362",
   "metadata": {},
   "outputs": [],
   "source": [
    "effect_hedge"
   ]
  },
  {
   "cell_type": "code",
   "execution_count": null,
   "id": "bb9b25f2",
   "metadata": {},
   "outputs": [],
   "source": []
  },
  {
   "cell_type": "code",
   "execution_count": null,
   "id": "aecfb46b",
   "metadata": {},
   "outputs": [],
   "source": [
    "# Set the color palette\n",
    "sns.set_palette(\"colorblind\")\n",
    "\n",
    "# Group the DataFrame by 'Type' and calculate the mean effect size for each measurement\n",
    "avg_pricing = techa.groupby('Type')[['Open', 'High', 'Low', 'Close']].mean()\n",
    "\n",
    "# Create a larger bar plot for presentation\n",
    "plt.figure(figsize=(30, 15))  # Adjust the width and height as needed\n",
    "ax = avg_pricing.plot(kind='barh')\n",
    "\n",
    "# Adding labels and title\n",
    "plt.xlabel('Event Type')\n",
    "plt.ylabel('Average Price')\n",
    "plt.title('Average Tech Prices After Events')\n",
    "\n",
    "# Move the legend to the upper right corner\n",
    "ax.legend(loc='upper right')\n",
    "\n",
    "# Show the plot\n",
    "plt.tight_layout()\n",
    "plt.show()"
   ]
  },
  {
   "cell_type": "code",
   "execution_count": null,
   "id": "a5c4df06",
   "metadata": {},
   "outputs": [],
   "source": [
    "# Set the color palette\n",
    "sns.set_palette(\"colorblind\")\n",
    "\n",
    "avg_pricing = techb.groupby('Type')[['Open', 'High', 'Low', 'Close']].mean()\n",
    "\n",
    "# Create a larger bar plot for presentation\n",
    "plt.figure(figsize=(30, 15))  # Adjust the width and height as needed\n",
    "ax = avg_pricing.plot(kind='barh')\n",
    "\n",
    "# Adding labels and title\n",
    "plt.xlabel('Event Type')\n",
    "plt.ylabel('Average Price')\n",
    "plt.title('Average Tech Prices Before Events')\n",
    "\n",
    "# Move the legend to the upper right corner\n",
    "ax.legend(loc='upper right')\n",
    "\n",
    "plt.tight_layout()\n",
    "plt.show()"
   ]
  },
  {
   "cell_type": "code",
   "execution_count": null,
   "id": "d4e84977",
   "metadata": {},
   "outputs": [],
   "source": [
    "# open close comparison average price"
   ]
  },
  {
   "cell_type": "code",
   "execution_count": null,
   "id": "80d9151e",
   "metadata": {},
   "outputs": [],
   "source": []
  },
  {
   "cell_type": "code",
   "execution_count": null,
   "id": "7812e240",
   "metadata": {},
   "outputs": [],
   "source": []
  }
 ],
 "metadata": {
  "kernelspec": {
   "display_name": "Python 3",
   "language": "python",
   "name": "python3"
  },
  "language_info": {
   "codemirror_mode": {
    "name": "ipython",
    "version": 3
   },
   "file_extension": ".py",
   "mimetype": "text/x-python",
   "name": "python",
   "nbconvert_exporter": "python",
   "pygments_lexer": "ipython3",
   "version": "3.8.8"
  }
 },
 "nbformat": 4,
 "nbformat_minor": 5
}
